{
 "cells": [
  {
   "cell_type": "code",
   "execution_count": 50,
   "metadata": {},
   "outputs": [
    {
     "name": "stdout",
     "output_type": "stream",
     "text": [
      "The autoreload extension is already loaded. To reload it, use:\n",
      "  %reload_ext autoreload\n"
     ]
    }
   ],
   "source": [
    "import numpy as np\n",
    "import matplotlib as mpl\n",
    "import matplotlib.pyplot as plt\n",
    "%load_ext autoreload\n",
    "%autoreload 2"
   ]
  },
  {
   "cell_type": "code",
   "execution_count": 191,
   "metadata": {
    "collapsed": true
   },
   "outputs": [],
   "source": [
    "plt.style.use('ggplot')\n",
    "mpl.rcParams['lines.linewidth'] = 2.5\n",
    "mpl.rcParams['font.size'] = 12"
   ]
  },
  {
   "cell_type": "code",
   "execution_count": 52,
   "metadata": {
    "collapsed": true
   },
   "outputs": [],
   "source": [
    "def getGalaxyData(snapshot):\n",
    "    return np.genfromtxt('./Data/GalaxyData/GalaxyData_Snap.'+str(snapshot)+'.txt')\n",
    "def getWebData(snapshot):\n",
    "    return np.genfromtxt('./Data/WebData/galaxy_web_data.'+str(snapshot)+'.txt')"
   ]
  },
  {
   "cell_type": "code",
   "execution_count": 119,
   "metadata": {},
   "outputs": [
    {
     "name": "stdout",
     "output_type": "stream",
     "text": [
      "snap:  135  with bin from  0.0  to  0.2  has N entries:  154\n",
      "snap:  135  with bin from  0.2  to  0.4  has N entries:  213\n",
      "snap:  135  with bin from  0.4  to  0.6  has N entries:  86\n",
      "snap:  135  with bin from  0.0  to  0.2  has N entries:  366\n",
      "snap:  135  with bin from  0.2  to  0.4  has N entries:  629\n",
      "snap:  135  with bin from  0.4  to  0.6  has N entries:  348\n",
      "snap:  135  with bin from  0.6  to  0.8  has N entries:  26\n"
     ]
    },
    {
     "data": {
      "image/png": "[encoded data removed]",
      "text/plain": [
       "<matplotlib.figure.Figure at 0x10e3aa748>"
      ]
     },
     "metadata": {},
     "output_type": "display_data"
    }
   ],
   "source": [
    "def plotCos(thisPlot,snapshot,nBins,lowLim,highLim,spiEllip=1,massCut=10,plusMinus=1):\n",
    "    galData=getGalaxyData(snapshot)\n",
    "    webData=getWebData(snapshot)\n",
    "    edges=np.linspace(lowLim,highLim,nBins+1)\n",
    "    middles=edges[:-1]+(highLim-lowLim)/(2*nBins)\n",
    "    average=np.zeros(nBins)\n",
    "    err=np.zeros(nBins)\n",
    "    for i in range(nBins):\n",
    "        inBin=np.argwhere((galData[:,17]>edges[i]) & (galData[:,17]<edges[i+1])\n",
    "                         & (spiEllip*galData[:,14]<spiEllip*0.5) & (webData[:,17]==0)\n",
    "                         & (plusMinus*galData[:,2]>plusMinus*massCut))\n",
    "        print('snap: ',snapshot,' with bin from ',edges[i],' to ',edges[i+1],' has N entries: ',inBin.size)\n",
    "        average[i]=np.median(np.abs(webData[inBin,15]))\n",
    "        err[i]=np.std(np.abs(webData[inBin,15]))/np.sqrt(inBin.size)\n",
    "    thisPlot.errorbar(middles,average,yerr=err)\n",
    "\n",
    "cosLambda=plt.gca()\n",
    "plotCos(cosLambda,135,3,0,0.6,massCut=5)\n",
    "plotCos(cosLambda,135,4,0,0.8,massCut=5,plusMinus=-1)\n",
    "#plotCos(cosLambda,116,2,0.1,0.5,massCut=5)\n",
    "#plotCos(cosLambda,103,3,0,0.6,massCut=5,plusMinus=-1)\n",
    "cosLambda.set_xlim(0,0.8)\n",
    "cosLambda.set_ylim(0.35,0.55)\n",
    "cosLambda.set_xlabel('lambda')\n",
    "cosLambda.set_ylabel('average cos')\n",
    "plt.show()"
   ]
  },
  {
   "cell_type": "code",
   "execution_count": 206,
   "metadata": {},
   "outputs": [
    {
     "name": "stdout",
     "output_type": "stream",
     "text": [
      "snap:  135  with bin from  0.0  to  0.15  has N entries:  250\n",
      "snap:  135  with bin from  0.15  to  0.3  has N entries:  338\n",
      "snap:  135  with bin from  0.3  to  0.45  has N entries:  211\n",
      "snap:  135  with bin from  0.45  to  0.6  has N entries:  109\n",
      "[ 0.00175375  0.00080979  0.00080428  0.00076457]\n",
      "snap:  116  with bin from  0.0  to  0.2  has N entries:  282\n",
      "snap:  116  with bin from  0.2  to  0.4  has N entries:  313\n",
      "snap:  116  with bin from  0.4  to  0.6  has N entries:  125\n",
      "[ 0.00386555  0.00216091  0.00148346]\n",
      "snap:  105  with bin from  0.0  to  0.233333333333  has N entries:  282\n",
      "snap:  105  with bin from  0.233333333333  to  0.466666666667  has N entries:  273\n",
      "snap:  105  with bin from  0.466666666667  to  0.7  has N entries:  64\n",
      "[ 0.0039535   0.00230793  0.00137483]\n",
      "snap:  85  with bin from  0.0  to  0.233333333333  has N entries:  112\n",
      "snap:  85  with bin from  0.233333333333  to  0.466666666667  has N entries:  176\n",
      "snap:  85  with bin from  0.466666666667  to  0.7  has N entries:  51\n",
      "[ 0.01227891  0.00531684  0.00129109]\n",
      "snap:  135  with bin from  0.0  to  0.15  has N entries:  250\n",
      "snap:  135  with bin from  0.15  to  0.3  has N entries:  338\n",
      "snap:  135  with bin from  0.3  to  0.45  has N entries:  211\n",
      "snap:  135  with bin from  0.45  to  0.6  has N entries:  109\n",
      "[ 0.11004927  0.21287631  0.23852476  0.36690947]\n",
      "snap:  116  with bin from  0.0  to  0.2  has N entries:  282\n",
      "snap:  116  with bin from  0.2  to  0.4  has N entries:  313\n",
      "snap:  116  with bin from  0.4  to  0.6  has N entries:  125\n",
      "[ 0.29699622  0.45185744  0.61195958]\n",
      "snap:  105  with bin from  0.0  to  0.233333333333  has N entries:  282\n",
      "snap:  105  with bin from  0.233333333333  to  0.466666666667  has N entries:  273\n",
      "snap:  105  with bin from  0.466666666667  to  0.7  has N entries:  64\n",
      "[ 0.65420036  0.77049442  1.30643408]\n",
      "snap:  85  with bin from  0.0  to  0.233333333333  has N entries:  112\n",
      "snap:  85  with bin from  0.233333333333  to  0.466666666667  has N entries:  176\n",
      "snap:  85  with bin from  0.466666666667  to  0.7  has N entries:  51\n",
      "[ 1.96040495  2.52254691  2.81440588]\n"
     ]
    }
   ],
   "source": [
    "def plotAgn(thisPlot,snapshot,nBins,lowLim,highLim,spiEllip=1,massCut=10,plusMinus=1,colour='k'):\n",
    "    galData=getGalaxyData(snapshot)\n",
    "    edges=np.linspace(lowLim,highLim,nBins+1)\n",
    "    middles=edges[:-1]+(highLim-lowLim)/(2*nBins)\n",
    "    average=np.zeros(nBins)\n",
    "    err=np.zeros(nBins)\n",
    "    for i in range(nBins):\n",
    "        inBin=np.argwhere((galData[:,17]>edges[i]) & (galData[:,17]<edges[i+1])\n",
    "                         & (spiEllip*galData[:,14]<spiEllip*0.5)\n",
    "                         & (plusMinus*galData[:,2]>plusMinus*massCut))\n",
    "        print('snap: ',snapshot,' with bin from ',edges[i],' to ',edges[i+1],' has N entries: ',inBin.size)\n",
    "        average[i]=np.mean(np.abs(galData[inBin,19]))\n",
    "        err[i]=np.std(np.abs(galData[inBin,19]))/np.sqrt(inBin.size)\n",
    "    thisPlot.errorbar(middles,average,yerr=err,c=colour)\n",
    "    print(average)\n",
    "def plotSfr(thisPlot,snapshot,nBins,lowLim,highLim,spiEllip=1,massCut=10,plusMinus=1,colour='k'):\n",
    "    galData=getGalaxyData(snapshot)\n",
    "    edges=np.linspace(lowLim,highLim,nBins+1)\n",
    "    middles=edges[:-1]+(highLim-lowLim)/(2*nBins)\n",
    "    average=np.zeros(nBins)\n",
    "    err=np.zeros(nBins)\n",
    "    for i in range(nBins):\n",
    "        inBin=np.argwhere((galData[:,17]>edges[i]) & (galData[:,17]<edges[i+1])\n",
    "                         & (spiEllip*galData[:,14]<spiEllip*0.5)\n",
    "                         & (plusMinus*galData[:,2]>plusMinus*massCut))\n",
    "        print('snap: ',snapshot,' with bin from ',edges[i],' to ',edges[i+1],' has N entries: ',inBin.size)\n",
    "        average[i]=np.mean(np.abs(galData[inBin,20]))\n",
    "        err[i]=np.std(np.abs(galData[inBin,20]))/np.sqrt(inBin.size)\n",
    "    thisPlot.errorbar(middles,average,yerr=err,c=colour)\n",
    "    print(average)\n",
    "fig = plt.figure(figsize=(5,8))\n",
    "mDotPlot = plt.gca()\n",
    "agnCmap=mpl.cm.get_cmap('OrRd')\n",
    "sfrCmap=mpl.cm.get_cmap('PuBu')\n",
    "plotAgn(mDotPlot,135,4,0,0.6,massCut=5,colour=agnCmap(0.95))\n",
    "plotAgn(mDotPlot,116,3,0,0.6,massCut=5,colour=agnCmap(0.8))\n",
    "plotAgn(mDotPlot,105,3,0,0.7,massCut=5,colour=agnCmap(0.65))\n",
    "plotAgn(mDotPlot,85,3,0,0.7,massCut=5,colour=agnCmap(0.5))\n",
    "mDotPlot.text(0.5,10**-2.5,r'$\\dot{M}_{BH}$',fontsize=20,color=agnCmap(0.8))\n",
    "plotSfr(mDotPlot,135,4,0,0.6,massCut=5,colour=sfrCmap(0.95))\n",
    "plotSfr(mDotPlot,116,3,0,0.6,massCut=5,colour=sfrCmap(0.8))\n",
    "plotSfr(mDotPlot,105,3,0,0.7,massCut=5,colour=sfrCmap(0.65))\n",
    "plotSfr(mDotPlot,85,3,0,0.7,massCut=5,colour=sfrCmap(0.5))\n",
    "mDotPlot.text(0.5,10**-1,r'$\\dot{M}_{SF}$',fontsize=20,color=sfrCmap(0.8))\n",
    "mDotPlot.set_xlim(0,0.65)\n",
    "mDotPlot.set_ylim(10**-3.5,10**0.5)\n",
    "mDotPlot.set_xlabel(r'$\\lambda_R$')\n",
    "mDotPlot.set_ylabel(r'$\\dot{M}\\ \\ (10^{10} M_\\odot Gyr^{-1})$')\n",
    "mDotPlot.set_yscale('log')\n",
    "mDotPlot.set_facecolor('white')\n",
    "plt.tight_layout()\n",
    "plt.savefig('Plots/FeedbackZ0.pdf')"
   ]
  },
  {
   "cell_type": "code",
   "execution_count": null,
   "metadata": {
    "collapsed": true
   },
   "outputs": [],
   "source": []
  }
 ],
 "metadata": {
  "kernelspec": {
   "display_name": "Python [default]",
   "language": "python",
   "name": "python3"
  },
  "language_info": {
   "codemirror_mode": {
    "name": "ipython",
    "version": 3
   },
   "file_extension": ".py",
   "mimetype": "text/x-python",
   "name": "python",
   "nbconvert_exporter": "python",
   "pygments_lexer": "ipython3",
   "version": "3.5.2"
  }
 },
 "nbformat": 4,
 "nbformat_minor": 2
}
