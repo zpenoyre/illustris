{
 "cells": [
  {
   "cell_type": "code",
   "execution_count": 1,
   "metadata": {},
   "outputs": [],
   "source": [
    "import illustrisAPI.data as iApi\n",
    "import numpy as np\n",
    "import matplotlib.pyplot as plt\n",
    "import matplotlib\n",
    "import h5py\n",
    "%load_ext autoreload\n",
    "%autoreload 2"
   ]
  },
  {
   "cell_type": "code",
   "execution_count": 90,
   "metadata": {},
   "outputs": [
    {
     "name": "stdout",
     "output_type": "stream",
     "text": [
      "temp.hdf5\n"
     ]
    }
   ],
   "source": [
    "#returns a dictionary with all halo catalog data corresponding to a particular halo\n",
    "def getHaloData(whichHalo, simulation='Illustris-1', snapshot=135):\n",
    "    url='http://www.illustris-project.org/api/'+simulation+'/snapshots/'+str(snapshot)+'/halos/'+str(whichHalo)+'/info.json'\n",
    "    data=iApi.get(url)\n",
    "    haloData=data['Group']\n",
    "    return haloData\n",
    "#returns a dictionary with all subhalo catalog data corresponding to a particular subhalo, plus progenitors!\n",
    "def getSubhaloData(whichSubhalo, simulation='Illustris-1', snapshot=135):\n",
    "    infoUrl='http://www.illustris-project.org/api/'+simulation+'/snapshots/'+str(snapshot)+'/subhalos/'+str(whichSubhalo)+'/info.json'\n",
    "    infoData=iApi.get(infoUrl)\n",
    "    subhaloData=infoData['Subhalo']\n",
    "    subUrl='http://www.illustris-project.org/api/'+simulation+'/snapshots/'+str(snapshot)+'/subhalos/'+str(whichSubhalo)\n",
    "    subData=iApi.get(subUrl)\n",
    "    treeUrl='http://www.illustris-project.org/api/'+simulation+'/snapshots/'+str(snapshot)+'/subhalos/'+str(whichSubhalo)+'/sublink/mpb.hdf5'\n",
    "    treeData=iApi.get(treeUrl)\n",
    "    print(treeData)\n",
    "    return treeData\n",
    "data=getSubhaloData(0,snapshot=134)"
   ]
  },
  {
   "cell_type": "code",
   "execution_count": 91,
   "metadata": {},
   "outputs": [
    {
     "name": "stdout",
     "output_type": "stream",
     "text": [
      "['DescendantID', 'FirstProgenitorID', 'FirstSubhaloInFOFGroupID', 'Group_M_Crit200', 'Group_M_Mean200', 'Group_M_TopHat200', 'LastProgenitorID', 'MainLeafProgenitorID', 'Mass', 'MassHistory', 'NextProgenitorID', 'NextSubhaloInFOFGroupID', 'NumParticles', 'RootDescendantID', 'SnapNum', 'SubfindID', 'SubhaloBHMass', 'SubhaloBHMdot', 'SubhaloCM', 'SubhaloGasMetallicity', 'SubhaloGasMetallicityHalfRad', 'SubhaloGasMetallicityMaxRad', 'SubhaloGasMetallicitySfr', 'SubhaloGasMetallicitySfrWeighted', 'SubhaloGrNr', 'SubhaloHalfmassRad', 'SubhaloHalfmassRadType', 'SubhaloID', 'SubhaloIDMostbound', 'SubhaloIDRaw', 'SubhaloLen', 'SubhaloLenType', 'SubhaloMass', 'SubhaloMassInHalfRad', 'SubhaloMassInHalfRadType', 'SubhaloMassInMaxRad', 'SubhaloMassInMaxRadType', 'SubhaloMassInRad', 'SubhaloMassInRadType', 'SubhaloMassType', 'SubhaloParent', 'SubhaloPos', 'SubhaloSFR', 'SubhaloSFRinHalfRad', 'SubhaloSFRinMaxRad', 'SubhaloSFRinRad', 'SubhaloSpin', 'SubhaloStarMetallicity', 'SubhaloStarMetallicityHalfRad', 'SubhaloStarMetallicityMaxRad', 'SubhaloStellarPhotometrics', 'SubhaloStellarPhotometricsMassInRad', 'SubhaloStellarPhotometricsRad', 'SubhaloVel', 'SubhaloVelDisp', 'SubhaloVmax', 'SubhaloVmaxRad', 'SubhaloWindMass', 'TreeID']\n",
      "[      0       0       0       0       0       0       0       0       0\n",
      "       0       0       0       0       0       0       0       0       0\n",
      "       0       0       0       0       0       0       0       0       0\n",
      "       0       0       0       0       0       0       0       0 8716422\n",
      " 8585348 8454274 8323200 8192126 8061052 7929978 7798904 7667830 7536756\n",
      " 7405682 7274608 7143534 7012460 6881386 6750312 6619238 6488164 6357090\n",
      " 6226016 6094942 5963868 5832794 5701720 5570646 5439572 5308498 5177424\n",
      " 5046350 4915276 4784202 4653128 4522054 4390980 4259906 4128832 3997758\n",
      " 3866684 3735610 3539000 3342388 3211314 3080240 2949166 2818092 2687018\n",
      " 2555944 2424870 2293796 2162722 2031648 1900574 1769500 1638426 1507352\n",
      "       0       0       0       0       0       0       0       0       0\n",
      "       0       0       0       0       0       0   12076]\n",
      "[  256     0     0     0     1    24     0     0   257     1     0     0\n",
      "   110     0     0     0   110     0     0     0     3    24     1     0\n",
      "  8209    63     8     0     0    64  2868 13312  1023     0     0     0\n",
      "     5     8     1     0   514   258     0     0     8    24     1     0\n",
      "   259 23756     0     0     0   880     0     0     0     0     0     0\n",
      "    18     8     0     0     1     0  7574 22907     0   120     0     0\n",
      "     0     0     0     0     0     0     0     0     0     0     0     0\n",
      "     0     0     0     0     0     0     0     0     0     0     0     0\n",
      "     0     0     0     0     0     0     0     0     0     0]\n"
     ]
    }
   ],
   "source": [
    "f = h5py.File(data,'r')\n",
    "print(list(f.keys()))\n",
    "print(f['SubfindID'][:])\n",
    "print(f['SnapNum'][:])"
   ]
  },
  {
   "cell_type": "code",
   "execution_count": 8,
   "metadata": {},
   "outputs": [
    {
     "name": "stdout",
     "output_type": "stream",
     "text": [
      "{'Content-Type': 'application/json', 'Connection': 'Keep-Alive', 'Transfer-Encoding': 'chunked', 'Vary': 'Accept,Cookie', 'Date': 'Fri, 28 Jul 2017 12:38:01 GMT', 'Allow': 'GET, HEAD, OPTIONS', 'X-Frame-Options': 'SAMEORIGIN', 'Server': 'Apache/2.2.15 (CentOS)', 'Keep-Alive': 'timeout=2, max=200'}\n"
     ]
    },
    {
     "ename": "KeyError",
     "evalue": "'content-length'",
     "output_type": "error",
     "traceback": [
      "\u001b[0;31m---------------------------------------------------------------------------\u001b[0m",
      "\u001b[0;31mKeyError\u001b[0m                                  Traceback (most recent call last)",
      "\u001b[0;32m<ipython-input-8-7f0d0f80fe21>\u001b[0m in \u001b[0;36m<module>\u001b[0;34m()\u001b[0m\n\u001b[0;32m----> 1\u001b[0;31m \u001b[0malt\u001b[0m\u001b[0;34m=\u001b[0m\u001b[0miApi\u001b[0m\u001b[0;34m.\u001b[0m\u001b[0mget\u001b[0m\u001b[0;34m(\u001b[0m\u001b[0;34m'http://www.illustris-project.org/api/Illustris-1/snapshots/134/subhalos/1/sublink/mpb.hdf5'\u001b[0m\u001b[0;34m,\u001b[0m\u001b[0mwarningSize\u001b[0m\u001b[0;34m=\u001b[0m\u001b[0;36m1\u001b[0m\u001b[0;34m)\u001b[0m\u001b[0;34m\u001b[0m\u001b[0m\n\u001b[0m\u001b[1;32m      2\u001b[0m \u001b[0mf\u001b[0m\u001b[0;34m=\u001b[0m\u001b[0mh5py\u001b[0m\u001b[0;34m.\u001b[0m\u001b[0mFile\u001b[0m\u001b[0;34m(\u001b[0m\u001b[0malt\u001b[0m\u001b[0;34m,\u001b[0m\u001b[0;34m'r'\u001b[0m\u001b[0;34m)\u001b[0m\u001b[0;34m\u001b[0m\u001b[0m\n\u001b[1;32m      3\u001b[0m \u001b[0mprint\u001b[0m\u001b[0;34m(\u001b[0m\u001b[0mf\u001b[0m\u001b[0;34m[\u001b[0m\u001b[0;34m'SubfindID'\u001b[0m\u001b[0;34m]\u001b[0m\u001b[0;34m[\u001b[0m\u001b[0;34m:\u001b[0m\u001b[0;34m]\u001b[0m\u001b[0;34m)\u001b[0m\u001b[0;34m\u001b[0m\u001b[0m\n\u001b[1;32m      4\u001b[0m \u001b[0mprint\u001b[0m\u001b[0;34m(\u001b[0m\u001b[0mf\u001b[0m\u001b[0;34m[\u001b[0m\u001b[0;34m'SnapNum'\u001b[0m\u001b[0;34m]\u001b[0m\u001b[0;34m[\u001b[0m\u001b[0;34m:\u001b[0m\u001b[0;34m]\u001b[0m\u001b[0;34m)\u001b[0m\u001b[0;34m\u001b[0m\u001b[0m\n",
      "\u001b[0;32m/Users/Zephyr/Google Drive/astro/illustris/illustrisAPI/data.py\u001b[0m in \u001b[0;36mget\u001b[0;34m(path, params, fName, warningSize)\u001b[0m\n\u001b[1;32m     11\u001b[0m     \u001b[0mr\u001b[0m \u001b[0;34m=\u001b[0m \u001b[0mrequests\u001b[0m\u001b[0;34m.\u001b[0m\u001b[0mget\u001b[0m\u001b[0;34m(\u001b[0m\u001b[0mpath\u001b[0m\u001b[0;34m,\u001b[0m\u001b[0mstream\u001b[0m\u001b[0;34m=\u001b[0m\u001b[0;32mTrue\u001b[0m\u001b[0;34m)\u001b[0m\u001b[0;34m\u001b[0m\u001b[0m\n\u001b[1;32m     12\u001b[0m     \u001b[0mprint\u001b[0m\u001b[0;34m(\u001b[0m\u001b[0mr\u001b[0m\u001b[0;34m.\u001b[0m\u001b[0mheaders\u001b[0m\u001b[0;34m)\u001b[0m\u001b[0;34m\u001b[0m\u001b[0m\n\u001b[0;32m---> 13\u001b[0;31m     \u001b[0mlength\u001b[0m\u001b[0;34m=\u001b[0m\u001b[0mr\u001b[0m\u001b[0;34m.\u001b[0m\u001b[0mheaders\u001b[0m\u001b[0;34m[\u001b[0m\u001b[0;34m'Content-length'\u001b[0m\u001b[0;34m]\u001b[0m\u001b[0;34m\u001b[0m\u001b[0m\n\u001b[0m\u001b[1;32m     14\u001b[0m     \u001b[0;32mif\u001b[0m \u001b[0;34m(\u001b[0m\u001b[0mlength\u001b[0m\u001b[0;34m>\u001b[0m\u001b[0mwarningSize\u001b[0m\u001b[0;34m)\u001b[0m\u001b[0;34m:\u001b[0m\u001b[0;34m\u001b[0m\u001b[0m\n\u001b[1;32m     15\u001b[0m         \u001b[0mprint\u001b[0m\u001b[0;34m(\u001b[0m\u001b[0;34m'File at url: '\u001b[0m\u001b[0;34m,\u001b[0m\u001b[0mpath\u001b[0m\u001b[0;34m)\u001b[0m\u001b[0;34m\u001b[0m\u001b[0m\n",
      "\u001b[0;32m/Users/Zephyr/Astro/anaconda/lib/python3.5/site-packages/requests/structures.py\u001b[0m in \u001b[0;36m__getitem__\u001b[0;34m(self, key)\u001b[0m\n\u001b[1;32m     52\u001b[0m \u001b[0;34m\u001b[0m\u001b[0m\n\u001b[1;32m     53\u001b[0m     \u001b[0;32mdef\u001b[0m \u001b[0m__getitem__\u001b[0m\u001b[0;34m(\u001b[0m\u001b[0mself\u001b[0m\u001b[0;34m,\u001b[0m \u001b[0mkey\u001b[0m\u001b[0;34m)\u001b[0m\u001b[0;34m:\u001b[0m\u001b[0;34m\u001b[0m\u001b[0m\n\u001b[0;32m---> 54\u001b[0;31m         \u001b[0;32mreturn\u001b[0m \u001b[0mself\u001b[0m\u001b[0;34m.\u001b[0m\u001b[0m_store\u001b[0m\u001b[0;34m[\u001b[0m\u001b[0mkey\u001b[0m\u001b[0;34m.\u001b[0m\u001b[0mlower\u001b[0m\u001b[0;34m(\u001b[0m\u001b[0;34m)\u001b[0m\u001b[0;34m]\u001b[0m\u001b[0;34m[\u001b[0m\u001b[0;36m1\u001b[0m\u001b[0;34m]\u001b[0m\u001b[0;34m\u001b[0m\u001b[0m\n\u001b[0m\u001b[1;32m     55\u001b[0m \u001b[0;34m\u001b[0m\u001b[0m\n\u001b[1;32m     56\u001b[0m     \u001b[0;32mdef\u001b[0m \u001b[0m__delitem__\u001b[0m\u001b[0;34m(\u001b[0m\u001b[0mself\u001b[0m\u001b[0;34m,\u001b[0m \u001b[0mkey\u001b[0m\u001b[0;34m)\u001b[0m\u001b[0;34m:\u001b[0m\u001b[0;34m\u001b[0m\u001b[0m\n",
      "\u001b[0;31mKeyError\u001b[0m: 'content-length'"
     ]
    }
   ],
   "source": [
    "alt=iApi.get('http://www.illustris-project.org/api/Illustris-1/snapshots/134/subhalos/1/sublink/mpb.hdf5',warningSize=1)\n",
    "f=h5py.File(alt,'r')\n",
    "print(f['SubfindID'][:])\n",
    "print(f['SnapNum'][:])"
   ]
  },
  {
   "cell_type": "code",
   "execution_count": 4,
   "metadata": {
    "collapsed": true
   },
   "outputs": [],
   "source": [
    "#example of getting subhalo data from z=1 in illustris 3\n",
    "haloFirstSub=iApi.getHaloField('GroupFirstSub',snapshot=85,simulation='Illustris-3')\n",
    "haloMass=iApi.getHaloField('GroupMass',snapshot=85,simulation='Illustris-3')\n",
    "subVelDisp=iApi.getSubhaloField('SubhaloVelDisp',snapshot=85,simulation='Illustris-3')\n",
    "subBhMass=iApi.getSubhaloField('SubhaloBHMass',snapshot=85,simulation='Illustris-3')"
   ]
  },
  {
   "cell_type": "code",
   "execution_count": 5,
   "metadata": {},
   "outputs": [
    {
     "name": "stderr",
     "output_type": "stream",
     "text": [
      "/Users/Zephyr/Astro/anaconda/lib/python3.5/site-packages/matplotlib/scale.py:103: RuntimeWarning: divide by zero encountered in log\n",
      "  return np.divide(np.log(a, out=a), np.log(self.base), out=a)\n"
     ]
    },
    {
     "data": {
      "image/png": "[encoded data removed]",
      "text/plain": [
       "<matplotlib.figure.Figure at 0x10c879f60>"
      ]
     },
     "metadata": {},
     "output_type": "display_data"
    }
   ],
   "source": [
    "#example plots of stellar component of the black hole sigma relation for central galaxies\n",
    "bigGalaxies=np.argwhere(haloMass>100)\n",
    "mSigma=plt.gca()\n",
    "mSigma.scatter(subVelDisp[haloFirstSub[bigGalaxies]],subBhMass[haloFirstSub[bigGalaxies]])\n",
    "mSigma.set_yscale('log')\n",
    "mSigma.set_xscale('log')\n",
    "mSigma.set_ylim(1e-5,1)\n",
    "plt.show()"
   ]
  },
  {
   "cell_type": "code",
   "execution_count": 2,
   "metadata": {},
   "outputs": [
    {
     "ename": "TypeError",
     "evalue": "getGalaxy() got an unexpected keyword argument 'warningSize'",
     "output_type": "error",
     "traceback": [
      "\u001b[0;31m---------------------------------------------------------------------------\u001b[0m",
      "\u001b[0;31mTypeError\u001b[0m                                 Traceback (most recent call last)",
      "\u001b[0;32m<ipython-input-2-18b2daa9a73a>\u001b[0m in \u001b[0;36m<module>\u001b[0;34m()\u001b[0m\n\u001b[1;32m      5\u001b[0m     \u001b[0;34m[\u001b[0m\u001b[0;36m4\u001b[0m\u001b[0;34m,\u001b[0m\u001b[0;34m'Masses'\u001b[0m\u001b[0;34m]\u001b[0m\u001b[0;34m\u001b[0m\u001b[0m\n\u001b[1;32m      6\u001b[0m ]\n\u001b[0;32m----> 7\u001b[0;31m \u001b[0mdata\u001b[0m\u001b[0;34m=\u001b[0m\u001b[0miApi\u001b[0m\u001b[0;34m.\u001b[0m\u001b[0mgetGalaxy\u001b[0m\u001b[0;34m(\u001b[0m\u001b[0;36m150\u001b[0m\u001b[0;34m,\u001b[0m\u001b[0mfields\u001b[0m\u001b[0;34m,\u001b[0m\u001b[0mwarningSize\u001b[0m\u001b[0;34m=\u001b[0m\u001b[0;36m1\u001b[0m\u001b[0;34m)\u001b[0m\u001b[0;34m\u001b[0m\u001b[0m\n\u001b[0m\u001b[1;32m      8\u001b[0m \u001b[0mrStar\u001b[0m\u001b[0;34m=\u001b[0m\u001b[0mdata\u001b[0m\u001b[0;34m[\u001b[0m\u001b[0;36m0\u001b[0m\u001b[0;34m]\u001b[0m\u001b[0;34m[\u001b[0m\u001b[0;34m:\u001b[0m\u001b[0;34m,\u001b[0m\u001b[0;34m:\u001b[0m\u001b[0;34m]\u001b[0m\u001b[0;34m\u001b[0m\u001b[0m\n\u001b[1;32m      9\u001b[0m \u001b[0mvStar\u001b[0m\u001b[0;34m=\u001b[0m\u001b[0mdata\u001b[0m\u001b[0;34m[\u001b[0m\u001b[0;36m1\u001b[0m\u001b[0;34m]\u001b[0m\u001b[0;34m[\u001b[0m\u001b[0;34m:\u001b[0m\u001b[0;34m,\u001b[0m\u001b[0;34m:\u001b[0m\u001b[0;34m]\u001b[0m\u001b[0;34m\u001b[0m\u001b[0m\n",
      "\u001b[0;31mTypeError\u001b[0m: getGalaxy() got an unexpected keyword argument 'warningSize'"
     ]
    }
   ],
   "source": [
    "#example of getting data from a particular galaxy (from online)\n",
    "fields=[\n",
    "    [4,'Coordinates'],\n",
    "    [4,'Velocities'],\n",
    "    [4,'Masses']\n",
    "]\n",
    "data=iApi.getGalaxy(150,fields)\n",
    "rStar=data[0][:,:]\n",
    "vStar=data[1][:,:]\n",
    "mStar=data[2][:]"
   ]
  },
  {
   "cell_type": "code",
   "execution_count": 40,
   "metadata": {},
   "outputs": [
    {
     "name": "stderr",
     "output_type": "stream",
     "text": [
      "/Users/Zephyr/Astro/anaconda/lib/python3.5/site-packages/ipykernel/__main__.py:46: RuntimeWarning: divide by zero encountered in log\n"
     ]
    },
    {
     "data": {
      "image/png": "[encoded data removed]",
      "text/plain": [
       "<matplotlib.figure.Figure at 0x11286a588>"
      ]
     },
     "metadata": {},
     "output_type": "display_data"
    }
   ],
   "source": [
    "#example plots of stellar component of the galaxy\n",
    "fig = plt.figure(figsize=(4,12))\n",
    "grid=matplotlib.gridspec.GridSpec(3,1)\n",
    "#moves to center of mass frame\n",
    "com=findCenterMass(rStar,mStar)\n",
    "rStar=rStar-com\n",
    "vom=findCenterVelocity(vStar,mStar)\n",
    "vStar=vStar-vom\n",
    "#reorients with z-axis along direction of galaxy angular momentum\n",
    "jUnit=findPlane(rStar,vStar)\n",
    "rStar=projectPos(jUnit,rStar)\n",
    "vStar=projectPos(jUnit,vStar)\n",
    "#plot map of projected density\n",
    "nPixels=32\n",
    "edgeDist=10\n",
    "plotMap(rStar,mStar,mStar,nPixels,edgeDist,grid,0,0,useMean=0,projection=0)\n",
    "plotMap(rStar,mStar,mStar,nPixels,edgeDist,grid,0,1,useMean=0,projection=1)\n",
    "plotMap(rStar,mStar,mStar,nPixels,edgeDist,grid,0,2,useMean=0)\n",
    "plt.show()"
   ]
  },
  {
   "cell_type": "code",
   "execution_count": 15,
   "metadata": {
    "collapsed": true
   },
   "outputs": [],
   "source": [
    "# routines used for plotting and data handling in the examples\n",
    "def findCenterMass(rStar,mStar):\n",
    "    com=np.zeros(3)\n",
    "    for i in range(3):\n",
    "        com[i]=np.sum(rStar[:,i]*mStar[:])/np.sum(mStar[:])\n",
    "    return com\n",
    "def findCenterVelocity(vStar,mStar):\n",
    "    vom=np.zeros(3)\n",
    "    for i in range(3):\n",
    "        vom[i]=np.sum(vStar[:,i]*mStar[:])/np.sum(mStar[:])\n",
    "    return vom\n",
    "def findPlane(rStar,vStar):\n",
    "    jStar=np.cross(rStar,vStar)\n",
    "    j=np.sum(jStar,axis=0)\n",
    "    j=j/np.linalg.norm(j)\n",
    "    return j\n",
    "def projectPos(j,r):\n",
    "    z=j[0]*r[:,0]+j[1]*r[:,1]+j[2]*r[:,2]\n",
    "    n=np.array([0,-j[2],j[1]])\n",
    "    n=n/np.linalg.norm(n)\n",
    "    m=np.cross(j,n)\n",
    "    x=n[0]*r[:,0]+n[1]*r[:,1]+n[2]*r[:,2]\n",
    "    y=m[0]*r[:,0]+m[1]*r[:,1]+m[2]*r[:,2]\n",
    "    return np.vstack((x,y,z)).T\n",
    "def findMap(r,m,data,nPixels,edgeDist,mean=1,projectAxis=2):\n",
    "    pixels=np.zeros((nPixels,nPixels))\n",
    "    vertAxis=(projectAxis+1)%3\n",
    "    horzAxis=(projectAxis+2)%3\n",
    "    for i in range(nPixels):\n",
    "        for j in range(nPixels):\n",
    "            inPix=np.argwhere((edgeDist*(((2*i)/nPixels)-1)<r[:,vertAxis])\n",
    "                            &(edgeDist*(((2*j)/nPixels)-1)<r[:,horzAxis])\n",
    "                         &(edgeDist*(((2*(i+1))/nPixels)-1)>r[:,vertAxis])\n",
    "                         &(edgeDist*(((2*(j+1))/nPixels)-1)>r[:,horzAxis]))\n",
    "            if inPix.size==0:\n",
    "                continue\n",
    "            if mean==1: #return the mass weighted mean\n",
    "                pixels[i,j]=np.sum(data[inPix]*m[inPix])/np.sum(m[inPix])\n",
    "            if mean==0:\n",
    "                pixels[i,j]=np.sum(data[inPix])\n",
    "    return pixels\n",
    "def plotMap(r,m,data,nPixels,edgeDist,grid,iPlot,jPlot,logPlot=1,useMean=1,projection=2):\n",
    "    pixels = findMap(r,m,data,nPixels,edgeDist,mean=useMean,projectAxis=projection)\n",
    "    plot = plt.subplot(grid[jPlot,iPlot])\n",
    "    if logPlot==1:\n",
    "        plot.imshow(np.log(pixels), interpolation ='none', aspect = 'auto')\n",
    "    else:\n",
    "        plot.imshow(pixels, interpolation ='none', aspect = 'auto')"
   ]
  },
  {
   "cell_type": "code",
   "execution_count": null,
   "metadata": {
    "collapsed": true
   },
   "outputs": [],
   "source": []
  }
 ],
 "metadata": {
  "kernelspec": {
   "display_name": "Python [default]",
   "language": "python",
   "name": "python3"
  },
  "language_info": {
   "codemirror_mode": {
    "name": "ipython",
    "version": 3
   },
   "file_extension": ".py",
   "mimetype": "text/x-python",
   "name": "python",
   "nbconvert_exporter": "python",
   "pygments_lexer": "ipython3",
   "version": "3.5.2"
  }
 },
 "nbformat": 4,
 "nbformat_minor": 2
}
