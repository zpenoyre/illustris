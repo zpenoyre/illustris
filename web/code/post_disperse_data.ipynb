{
 "cells": [
  {
   "cell_type": "code",
   "execution_count": 13,
   "metadata": {
    "collapsed": false
   },
   "outputs": [
    {
     "name": "stdout",
     "output_type": "stream",
     "text": [
      "The autoreload extension is already loaded. To reload it, use:\n",
      "  %reload_ext autoreload\n"
     ]
    },
    {
     "name": "stderr",
     "output_type": "stream",
     "text": [
      "/Library/Frameworks/Python.framework/Versions/3.6/lib/python3.6/site-packages/matplotlib/__init__.py:1401: UserWarning:  This call to matplotlib.use() has no effect\n",
      "because the backend has already been chosen;\n",
      "matplotlib.use() must be called *before* pylab, matplotlib.pyplot,\n",
      "or matplotlib.backends is imported for the first time.\n",
      "\n",
      "  warnings.warn(_use_error_msg)\n"
     ]
    },
    {
     "data": {
      "text/plain": [
       "<module 'subroutines.distance' from '/Users/alex/Documents/Research/Astro/git_rep/web/code/subroutines/distance.py'>"
      ]
     },
     "execution_count": 13,
     "metadata": {},
     "output_type": "execute_result"
    }
   ],
   "source": [
    "# Import libaries and illustris library\n",
    "import numpy as np\n",
    "import matplotlib.pyplot as plt\n",
    "import matplotlib\n",
    "%matplotlib inline\n",
    "matplotlib.use('pdf')\n",
    "import random\n",
    "import subroutines.distance as df\n",
    "hubble = 0.704\n",
    "plt.style.use('ggplot')\n",
    "%load_ext autoreload \n",
    "%autoreload 2\n",
    "import importlib\n",
    "importlib.reload(df)"
   ]
  },
  {
   "cell_type": "code",
   "execution_count": null,
   "metadata": {
    "collapsed": true
   },
   "outputs": [],
   "source": []
  },
  {
   "cell_type": "markdown",
   "metadata": {
    "collapsed": true
   },
   "source": [
    "# everything in units of h!"
   ]
  },
  {
   "cell_type": "code",
   "execution_count": 14,
   "metadata": {
    "collapsed": false
   },
   "outputs": [],
   "source": [
    "# set all file paths\n",
    "crit_file_0 = '/Users/alex/Documents/Research/Astro/vm_shared_folder_v2/il_1_snap_135_posdata_halo_mass_cutoff.txt.NDnet_c5.07e-07.up.NDskl.a.crits'\n",
    "crit_file_1= '/Users/alex/Documents/Research/Astro/vm_shared_folder_v2/il_1_snap_116_posdata_halo_mass_cutoff.txt.NDnet_c7.5e-06.up.NDskl.a.crits'\n",
    "crit_file_2= '/Users/alex/Documents/Research/Astro/vm_shared_folder_v2/il_1_snap_103_posdata_halo_mass_cutoff.txt.NDnet_c7e-06.up.NDskl.a.crits'\n",
    "crit_file_3 = '/Users/alex/Documents/Research/Astro/vm_shared_folder_v2/il_1_snap_85_posdata_halo_mass_cutoff.txt.NDnet_c7e-06.up.NDskl.a.crits'\n",
    "\n",
    "seg_file_0 = '/Users/alex/Documents/Research/Astro/vm_shared_folder_v2/il_1_snap_135_posdata_halo_mass_cutoff.txt.NDnet_s2.02.up.NDskl.BRK.S1000.a.segs'\n",
    "seg_file_1 = '/Users/alex/Documents/Research/Astro/vm_shared_folder_v2/il_1_snap_116_posdata_halo_mass_cutoff.txt.NDnet_s5.19.up.NDskl.a.segs'\n",
    "seg_file_2 = '/Users/alex/Documents/Research/Astro/vm_shared_folder_v2/il_1_snap_103_posdata_halo_mass_cutoff.txt.NDnet_s5.41.up.NDskl.a.segs'\n",
    "seg_file_3 = '/Users/alex/Documents/Research/Astro/vm_shared_folder_v2/il_1_snap_85_posdata_halo_mass_cutoff.txt.NDnet_s5.8.up.NDskl.a.segs'\n",
    "\n",
    "galaxy_data_file_0 = '/Users/alex/Documents/Research/Astro/git_rep/Data/GalaxyData/GalaxyData_Snap.135.txt'\n",
    "galaxy_data_file_1 = '/Users/alex/Documents/Research/Astro/git_rep/Data/GalaxyData/GalaxyData_Snap.116.txt'\n",
    "galaxy_data_file_2 = '/Users/alex/Documents/Research/Astro/git_rep/Data/GalaxyData/GalaxyData_Snap.103.txt'\n",
    "galaxy_data_file_3 = '/Users/alex/Documents/Research/Astro/git_rep/Data/GalaxyData/GalaxyData_Snap.85.txt'\n",
    "\n",
    "numbers=4;"
   ]
  },
  {
   "cell_type": "code",
   "execution_count": 15,
   "metadata": {
    "collapsed": false
   },
   "outputs": [],
   "source": [
    "# load data of segments from DisPerSE output\n",
    "for i in range (0,numbers):\n",
    "    vars()['seg_pos_'+str(i)] = np.loadtxt(vars()['seg_file_'+str(i)], comments='#')[:,0:3]/hubble"
   ]
  },
  {
   "cell_type": "code",
   "execution_count": 16,
   "metadata": {
    "collapsed": false
   },
   "outputs": [],
   "source": [
    "# load data of critical points from DisPerSE output\n",
    "for i in range (0,numbers):\n",
    "    vars()['crit_pos_'+str(i)] = np.loadtxt(vars()['crit_file_'+str(i)], comments='#')\n",
    "    vars()['crit_pos_'+str(i)] = vars()['crit_pos_'+str(i)][vars()['crit_pos_'+str(i)][:,4]>2][:,0:3]/hubble"
   ]
  },
  {
   "cell_type": "code",
   "execution_count": 17,
   "metadata": {
    "collapsed": false
   },
   "outputs": [],
   "source": [
    "# load data on specific galaxies from file\n",
    "# 0:HaloNumber, 1:SubhaloNumber, 2:StellarMass, 3:GasMass, 4:DarkMatterMass, 5-7:SubhaloPosition x,y,z\n",
    "# 8-10:CoM Velocity x, CoM Velocity y, CoM Velocity z, 11-13:AngularMomentum x, AngularMomentum y, AngularMomentum z, \n",
    "# 14:Kappa, 15:Flatness, 16:Ellip, 17:Lambda, 18:BHMass 19:BMMassDot 20:StarFormationRate (MDot) 21:N(sub_z=0) 22:N(sub_z_next) 23:N(sub_z_previous)\n",
    "for i in range (0,numbers):\n",
    "    vars()['galaxy_data_'+str(i)] = np.genfromtxt(vars()['galaxy_data_file_'+str(i)], comments='#')\n",
    "\n",
    "for i in range (0,numbers):\n",
    "    vars()['galaxy_positions_'+str(i)] = vars()['galaxy_data_'+str(i)][:,5:8]"
   ]
  },
  {
   "cell_type": "code",
   "execution_count": 18,
   "metadata": {
    "collapsed": false
   },
   "outputs": [
    {
     "name": "stdout",
     "output_type": "stream",
     "text": [
      "distance_function done with 0.0 %\n",
      "distance_function done with 10.0 %\n",
      "distance_function done with 20.0 %\n",
      "distance_function done with 30.0 %\n",
      "distance_function done with 40.0 %\n",
      "distance_function done with 50.0 %\n",
      "distance_function done with 60.0 %\n",
      "distance_function done with 70.0 %\n",
      "distance_function done with 80.0 %\n",
      "distance_function done with 90.0 %\n",
      "distance_function done with 100.0 %\n",
      "distance_function done with 0.0 %\n",
      "distance_function done with 10.0 %\n",
      "distance_function done with 20.0 %\n",
      "distance_function done with 30.0 %\n",
      "distance_function done with 40.0 %\n",
      "distance_function done with 50.0 %\n",
      "distance_function done with 60.0 %\n",
      "distance_function done with 70.0 %\n",
      "distance_function done with 80.0 %\n",
      "distance_function done with 90.0 %\n",
      "distance_function done with 100.0 %\n",
      "distance_function done with 0.0 %\n",
      "distance_function done with 10.0 %\n",
      "distance_function done with 20.0 %\n",
      "distance_function done with 30.0 %\n",
      "distance_function done with 40.0 %\n",
      "distance_function done with 50.0 %\n",
      "distance_function done with 60.0 %\n",
      "distance_function done with 70.0 %\n",
      "distance_function done with 80.0 %\n",
      "distance_function done with 90.0 %\n",
      "distance_function done with 100.0 %\n",
      "distance_function done with 0.0 %\n",
      "distance_function done with 10.0 %\n",
      "distance_function done with 20.0 %\n",
      "distance_function done with 30.0 %\n",
      "distance_function done with 40.0 %\n",
      "distance_function done with 50.0 %\n",
      "distance_function done with 60.0 %\n",
      "distance_function done with 70.0 %\n",
      "distance_function done with 80.0 %\n",
      "distance_function done with 90.0 %\n",
      "distance_function done with 100.0 %\n"
     ]
    }
   ],
   "source": [
    "# compute distances of galaxies to clusters\n",
    "for i in range (0,numbers):\n",
    "    vars()['galaxy_seg_distance_'+str(i)] = df.distance_function(vars()['galaxy_positions_'+str(i)], vars()['seg_pos_'+str(i)])"
   ]
  },
  {
   "cell_type": "code",
   "execution_count": 20,
   "metadata": {
    "collapsed": false
   },
   "outputs": [
    {
     "name": "stdout",
     "output_type": "stream",
     "text": [
      "distance_function done with 0.0 %\n",
      "distance_function done with 10.0 %\n",
      "distance_function done with 20.0 %\n",
      "distance_function done with 30.0 %\n",
      "distance_function done with 40.0 %\n",
      "distance_function done with 50.0 %\n",
      "distance_function done with 60.0 %\n",
      "distance_function done with 70.0 %\n",
      "distance_function done with 80.0 %\n",
      "distance_function done with 90.0 %\n",
      "distance_function done with 100.0 %\n",
      "distance_function done with 0.0 %\n",
      "distance_function done with 10.0 %\n",
      "distance_function done with 20.0 %\n",
      "distance_function done with 30.0 %\n",
      "distance_function done with 40.0 %\n",
      "distance_function done with 50.0 %\n",
      "distance_function done with 60.0 %\n",
      "distance_function done with 70.0 %\n",
      "distance_function done with 80.0 %\n",
      "distance_function done with 90.0 %\n",
      "distance_function done with 100.0 %\n",
      "distance_function done with 0.0 %\n",
      "distance_function done with 10.0 %\n",
      "distance_function done with 20.0 %\n",
      "distance_function done with 30.0 %\n",
      "distance_function done with 40.0 %\n",
      "distance_function done with 50.0 %\n",
      "distance_function done with 60.0 %\n",
      "distance_function done with 70.0 %\n",
      "distance_function done with 80.0 %\n",
      "distance_function done with 90.0 %\n",
      "distance_function done with 100.0 %\n",
      "distance_function done with 0.0 %\n",
      "distance_function done with 10.0 %\n",
      "distance_function done with 20.0 %\n",
      "distance_function done with 30.0 %\n",
      "distance_function done with 40.0 %\n",
      "distance_function done with 50.0 %\n",
      "distance_function done with 60.0 %\n",
      "distance_function done with 70.0 %\n",
      "distance_function done with 80.0 %\n",
      "distance_function done with 90.0 %\n",
      "distance_function done with 100.0 %\n"
     ]
    }
   ],
   "source": [
    "# compute distances of galaxies to filaments\n",
    "for i in range (0,numbers):\n",
    "    vars()['galaxy_crit_distance_'+str(i)] = df.distance_function(vars()['galaxy_positions_'+str(i)], vars()['crit_pos_'+str(i)])"
   ]
  },
  {
   "cell_type": "code",
   "execution_count": 21,
   "metadata": {
    "collapsed": false
   },
   "outputs": [
    {
     "name": "stdout",
     "output_type": "stream",
     "text": [
      "align_function done with 0.0 %\n",
      "align_function done with 25.0 %\n",
      "align_function done with 50.0 %\n",
      "align_function done with 75.0 %\n",
      "align_function done with 100.0 %\n",
      "align_function done with 0.0 %\n",
      "align_function done with 25.0 %\n",
      "align_function done with 50.0 %\n",
      "align_function done with 75.0 %\n",
      "align_function done with 0.0 %\n",
      "align_function done with 25.0 %\n",
      "align_function done with 50.0 %\n",
      "align_function done with 75.0 %\n",
      "align_function done with 0.0 %\n",
      "align_function done with 25.0 %\n",
      "align_function done with 50.0 %\n",
      "align_function done with 75.0 %\n",
      "align_function done with 100.0 %\n"
     ]
    }
   ],
   "source": [
    "# compute aligment of galaxies with nearest filament\n",
    "for i in range (0,numbers):\n",
    "    vars()['galaxy_seg_alignment_'+str(i)] = df.align_function(vars()['galaxy_data_'+str(i)][:,11:14], vars()['galaxy_seg_distance_'+str(i)][:,:], vars()['seg_pos_'+str(i)][:,:])\n"
   ]
  },
  {
   "cell_type": "code",
   "execution_count": 22,
   "metadata": {
    "collapsed": false
   },
   "outputs": [],
   "source": [
    "# Add the output of the distance function and aligment function to the end of the matrix\n",
    "    # 0:HaloNumber, 1:SubhaloNumber, 2-4:SubhaloPosition x,y,z, \n",
    "    # 5: Index of nearest critical point, 6: absolute distance to crit., 7-9: nearest critical point coordinates, \n",
    "    # 10: Index of nearest filament, 11:absolute distance to filament, 12-14: nearest filament coordinates,\n",
    "    # 15: cos(theta) with nearest filament, 16: sin(theta) with nearest filament\n",
    "    # 17: cluster=1, filament=0, none=-1\n",
    "for i in range (0,numbers):\n",
    "# preload data\n",
    "    vars()['galaxy_web_data_'+str(i)] = np.zeros((vars()['galaxy_data_'+str(i)].shape[0], 18))\n",
    "    vars()['galaxy_web_data_'+str(i)][:,0:2] = vars()['galaxy_data_'+str(i)][:,0:2]\n",
    "    vars()['galaxy_web_data_'+str(i)][:,2:5] = vars()['galaxy_data_'+str(i)][:,5:8]\n",
    "# critical points and filaments\n",
    "    vars()['galaxy_web_data_'+str(i)][:,5:7] = vars()['galaxy_crit_distance_'+str(i)][:,:]\n",
    "    vars()['galaxy_web_data_'+str(i)][:,10:12] = vars()['galaxy_seg_distance_'+str(i)][:,:]\n",
    "# theta\n",
    "    vars()['galaxy_web_data_'+str(i)][:,15] = vars()['galaxy_seg_alignment_'+str(i)][:,2]\n",
    "    vars()['galaxy_web_data_'+str(i)][:,16] = vars()['galaxy_seg_alignment_'+str(i)][:,3]\n",
    "\n",
    " "
   ]
  },
  {
   "cell_type": "code",
   "execution_count": 23,
   "metadata": {
    "collapsed": false
   },
   "outputs": [],
   "source": [
    "# add the positions of nearest clusters and filaments and compute whether galaxy is in one of them\n",
    "for i in range (0,numbers):\n",
    "    current_file = vars()['galaxy_web_data_'+str(i)]\n",
    "    \n",
    "    #\n",
    "    # ASSUMPTION: Cluster and Filament radius 2000kpc, 700kpc\n",
    "    #\n",
    "    # create mask with preset distances\n",
    "    crits_mask = (current_file[:,6] < 2000)\n",
    "    segs_mask =  (current_file[:,11] < 700)\n",
    "    \n",
    "    for j in range (0, current_file.shape[0]):\n",
    "        # load coordinates of critical points and filaments by using the index of nearest one and getting coordinates from illustris output\n",
    "        current_file[j,7:10] =  vars()['crit_pos_'+str(i)][int( vars()['galaxy_crit_distance_'+str(i)][j,0])]\n",
    "        current_file[j,12:15] = vars()['seg_pos_'+str(i)] [int( vars()['galaxy_seg_distance_' +str(i)][j,0])]\n",
    "        \n",
    "        if (crits_mask[j] == True):\n",
    "            current_file[j,17] = 1\n",
    "        elif(segs_mask[j] == True):\n",
    "            current_file[j,17] = 0\n",
    "        else:\n",
    "            current_file[j,17] = -1\n",
    "    \n",
    "    vars()['galaxy_web_data_'+str(i)] = current_file "
   ]
  },
  {
   "cell_type": "code",
   "execution_count": 24,
   "metadata": {
    "collapsed": false
   },
   "outputs": [],
   "source": [
    "snap=[135, 116, 103, 85]\n",
    "for i in range (0,numbers):\n",
    "    np.savetxt('/Users/alex/Documents/Research/Astro/git_rep/Data/WebData/galaxy_web_data.'+str(snap[i])+'.txt', vars()['galaxy_web_data_'+str(i)], delimiter =' ', \n",
    "           header = '0:HaloNumber, 1:SubhaloNumber, 2-4:SubhaloPosition x,y,z, 5: Index of nearest critical point, 6: absolute distance to crit., 7-9: nearest critical point coordinates, 10: Index of nearest filament, 11:absolute distance to filament, 12-14: nearest filament coordinates, 15: cos theta , 16: sin theta, 17: in filament/cluster (1,0,-1))' \n",
    "               )"
   ]
  },
  {
   "cell_type": "code",
   "execution_count": 173,
   "metadata": {
    "collapsed": false
   },
   "outputs": [],
   "source": []
  },
  {
   "cell_type": "code",
   "execution_count": 270,
   "metadata": {
    "collapsed": false
   },
   "outputs": [
    {
     "data": {
      "image/png": "[encoded data removed]",
      "text/plain": [
       "<matplotlib.figure.Figure at 0x109d5ea90>"
      ]
     },
     "metadata": {},
     "output_type": "display_data"
    }
   ],
   "source": [
    "# count how many galaxies are in clusters vs filaments\n",
    "fil_count = np.zeros((4,2))\n",
    "clus_count = np.zeros((4,2))\n",
    "out_count = np.zeros((4,2))\n",
    "for i in range (0,4):\n",
    "    kappa_mask_0 = vars()['galaxy_web_data_'+str(i)][(vars()['galaxy_data_'+str(i)][:,14]<0.5)]\n",
    "    fil_count[i,0] =  (kappa_mask_0[:,16] == 0).sum()\n",
    "    clus_count[i,0] = (kappa_mask_0[:,16] == 1).sum()\n",
    "    out_count[i,0] =  (kappa_mask_0[:,16] == -1).sum()\n",
    "    kappa_mask_1 = vars()['galaxy_web_data_'+str(i)][(vars()['galaxy_data_'+str(i)][:,14]>0.5)]\n",
    "    fil_count[i,1] =  (kappa_mask_1[:,16] == 0).sum()\n",
    "    clus_count[i,1] = (kappa_mask_1[:,16] == 1).sum()\n",
    "    out_count[i,1] =  (kappa_mask_1[:,16] == -1).sum()\n",
    "ax1 = plt.gca()\n",
    "ax1.plot(fil_count[:,0]/(fil_count[:,0]+clus_count[:,0]), label='Ellipitc galaxies ratio in clusters')\n",
    "ax1.plot(fil_count[:,1]/(fil_count[:,1]+clus_count[:,1]), label='Disk galaxies ratio in clusters')\n",
    "ax1.legend(loc='best')\n",
    "ax1.set_xlabel('Redshift (increasing)'); ax1.set_ylabel('Ratio (Fil)/(Clus + Fil)')\n",
    "plt.show()"
   ]
  },
  {
   "cell_type": "code",
   "execution_count": 262,
   "metadata": {
    "collapsed": false
   },
   "outputs": [
    {
     "data": {
      "text/plain": [
       "array([[ 259.,  118.],\n",
       "       [ 200.,   95.],\n",
       "       [ 205.,   74.],\n",
       "       [ 181.,   88.]])"
      ]
     },
     "execution_count": 262,
     "metadata": {},
     "output_type": "execute_result"
    }
   ],
   "source": [
    "out_count/(fil_count+clus_count+out_count)"
   ]
  },
  {
   "cell_type": "markdown",
   "metadata": {
    "collapsed": true
   },
   "source": [
    "old vvv"
   ]
  },
  {
   "cell_type": "code",
   "execution_count": null,
   "metadata": {
    "collapsed": true
   },
   "outputs": [],
   "source": [
    "halo_file_1 = \"/Users/alex/Documents/Research/Astro/vm_shared_folder_v2/il_1_snap_135_posdata_halo_mass_cutoff.txt\"\n",
    "halo_data_joined_masscut_e9= np.loadtxt(halo_file_1, comments='#', delimiter=',')[:,0:3]/0.7\n",
    "halo_file_2 = \"/Users/alex/Documents/Research/Astro/vm_shared_folder_v2/il_1_snap_85_posdata_halo_mass_cutoff.txt\"\n",
    "halo_data_joined_masscut_e9_z1= np.loadtxt(halo_file_2, comments='#', delimiter=',')[:,0:3]/0.7\n",
    "halo_file_3 = \"/Users/alex/Documents/Research/Astro/vm_shared_folder_v2/il_1_snap_103_posdata_halo_mass_cutoff.txt\"\n",
    "halo_data_joined_masscut_e9_z050= np.loadtxt(halo_file_3, comments='#', delimiter=',')[:,0:3]/0.7\n",
    "halo_file_4 = \"/Users/alex/Documents/Research/Astro/vm_shared_folder_v2/il_1_snap_116_posdata_halo_mass_cutoff.txt\"\n",
    "halo_data_joined_masscut_e9_z025= np.loadtxt(halo_file_4, comments='#', delimiter=',')[:,0:3]/0.7"
   ]
  },
  {
   "cell_type": "code",
   "execution_count": null,
   "metadata": {
    "collapsed": true
   },
   "outputs": [],
   "source": [
    "\n",
    "halo_file_1 = \"/Users/alex/Documents/Research/Astro/vm_shared_folder_v2/il_1_snap_135_posdata_halo_mass_cutoff.txt\"\n",
    "halo_positions = np.loadtxt(halo_file_1, comments='#', delimiter=',')[:,0:3]/0.7\n",
    "halo_mass = np.loadtxt(halo_file_1, comments='#', delimiter=',')[:,3]"
   ]
  },
  {
   "cell_type": "code",
   "execution_count": 38,
   "metadata": {
    "collapsed": false
   },
   "outputs": [],
   "source": [
    "# Now do same thing for halo data:\n",
    "\n",
    "# 0-2: CM position, 3: halo mass, 4: index of nearest filament point, 5: filament absolute distance\n",
    "# 6: index of nearest crit point, 7: crit absolute distance, 8: bool in cluster, 9: bool in filament\n",
    "\n",
    "halo_data = np.zeros((halo_positions.shape[0], 10))\n",
    "halo_data[:,0:3] = halo_positions\n",
    "halo_data[:,3] = halo_mass\n",
    "halo_data = halo_data[halo_data[:,3]>=0.5][:,:]"
   ]
  },
  {
   "cell_type": "code",
   "execution_count": 39,
   "metadata": {
    "collapsed": true
   },
   "outputs": [
    {
     "name": "stdout",
     "output_type": "stream",
     "text": [
      "distance_function done with 0.0 %\n",
      "distance_function done with 10.0 %\n",
      "distance_function done with 20.0 %\n",
      "distance_function done with 30.0 %\n",
      "distance_function done with 40.0 %\n",
      "distance_function done with 50.0 %\n",
      "distance_function done with 60.0 %\n",
      "distance_function done with 70.0 %\n",
      "distance_function done with 80.0 %\n",
      "distance_function done with 90.0 %\n",
      "distance_function done with 100.0 %\n"
     ]
    }
   ],
   "source": [
    "halo_segs_distance_mat = df.distance_function(halo_data[halo_data[:,3]>=0.5][:,0:3], segs_pos)"
   ]
  },
  {
   "cell_type": "code",
   "execution_count": 40,
   "metadata": {
    "collapsed": true
   },
   "outputs": [
    {
     "name": "stdout",
     "output_type": "stream",
     "text": [
      "distance_function done with 0.0 %\n",
      "distance_function done with 10.0 %\n",
      "distance_function done with 20.0 %\n",
      "distance_function done with 30.0 %\n",
      "distance_function done with 40.0 %\n",
      "distance_function done with 50.0 %\n",
      "distance_function done with 60.0 %\n",
      "distance_function done with 70.0 %\n",
      "distance_function done with 80.0 %\n",
      "distance_function done with 90.0 %\n",
      "distance_function done with 100.0 %\n"
     ]
    }
   ],
   "source": [
    "halo_crits_distance_mat = df.distance_function(halo_data[halo_data[:,3]>=0.5][:,0:3], crits_pos)"
   ]
  },
  {
   "cell_type": "code",
   "execution_count": 41,
   "metadata": {
    "collapsed": false
   },
   "outputs": [],
   "source": [
    "halo_data[:,4:6] = halo_segs_distance_mat\n",
    "halo_data[:,6:8] = halo_crits_distance_mat\n",
    "\n",
    "halo_data_crits_mask = (halo_data[:,7] < 2000)\n",
    "halo_data_segs_mask = (halo_data[:,5] < 700)\n",
    "    \n",
    "for i in range (0, halo_data.shape[0]):\n",
    "    if (halo_data_crits_mask[i] == True):\n",
    "        halo_data[i,8] = 1\n",
    "        halo_data[i,9] = 0\n",
    "    elif(halo_data_segs_mask[i] == True):\n",
    "        halo_data[i,8] = 0\n",
    "        halo_data[i,9] = 1\n",
    "    else:\n",
    "        halo_data[i,8] = 0\n",
    "        halo_data[i,9] = 0\n"
   ]
  },
  {
   "cell_type": "code",
   "execution_count": 42,
   "metadata": {
    "collapsed": true
   },
   "outputs": [],
   "source": [
    "np.savetxt('./data/halo_data_full_sim_v2.txt',\n",
    "           halo_data, header=\"0-2: CM position, 3: halo mass, 4: index of nearest filament point, 5: filament absolute distance, 6: index of nearest crit point, 7: crit absolute distance, 8: bool in cluster, 9: bool in filament\")"
   ]
  },
  {
   "cell_type": "code",
   "execution_count": null,
   "metadata": {
    "collapsed": true
   },
   "outputs": [],
   "source": []
  }
 ],
 "metadata": {
  "kernelspec": {
   "display_name": "Python 3",
   "language": "python",
   "name": "python3"
  },
  "language_info": {
   "codemirror_mode": {
    "name": "ipython",
    "version": 3
   },
   "file_extension": ".py",
   "mimetype": "text/x-python",
   "name": "python",
   "nbconvert_exporter": "python",
   "pygments_lexer": "ipython3",
   "version": "3.6.2"
  }
 },
 "nbformat": 4,
 "nbformat_minor": 0
}
