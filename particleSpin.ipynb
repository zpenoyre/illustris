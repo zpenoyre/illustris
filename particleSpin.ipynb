{
 "cells": [
  {
   "cell_type": "code",
   "execution_count": 150,
   "metadata": {
    "collapsed": true
   },
   "outputs": [],
   "source": [
    "import numpy as np\n",
    "import matplotlib as mpl\n",
    "import matplotlib.pyplot as plt\n",
    "import iApi\n",
    "iApi.headers['api-key']='cc4ff6392e79c9e08c158e5ae5493718'\n",
    "%matplotlib inline"
   ]
  },
  {
   "cell_type": "code",
   "execution_count": 152,
   "metadata": {},
   "outputs": [
    {
     "name": "stdout",
     "output_type": "stream",
     "text": [
      "4.498502151575286e-06\n",
      "0.00468012113274\n"
     ]
    }
   ],
   "source": [
    "#unrelated but wanted to save this\n",
    "from astropy import constants as const\n",
    "G=const.G.to('kpc3 / (solMass Gyr2)')\n",
    "print(G.value)\n",
    "def deltaV(G,M,b,y,r,v):\n",
    "    return (6*np.pi*G*M*y*b*np.power(r,2))/(v*np.power(np.power(b,2)+np.power(y,2),5/2))\n",
    "M=2e10\n",
    "b=100\n",
    "r=10\n",
    "y=np.pi*r\n",
    "v=100\n",
    "print(deltaV(5e-6,M,b,y,r,v)/v)"
   ]
  },
  {
   "cell_type": "code",
   "execution_count": 85,
   "metadata": {},
   "outputs": [
    {
     "name": "stdout",
     "output_type": "stream",
     "text": [
      "step:  0\n",
      "step:  1\n",
      "step:  2\n",
      "step:  3\n",
      "step:  4\n",
      "step:  5\n",
      "step:  6\n",
      "step:  7\n",
      "step:  8\n",
      "step:  9\n",
      "step:  10\n",
      "step:  11\n",
      "step:  12\n",
      "step:  13\n",
      "step:  14\n",
      "step:  15\n",
      "step:  16\n",
      "step:  17\n",
      "step:  18\n",
      "step:  19\n",
      "step:  20\n",
      "step:  21\n",
      "step:  22\n",
      "step:  23\n",
      "step:  24\n",
      "step:  25\n",
      "step:  26\n",
      "step:  27\n",
      "step:  28\n",
      "step:  29\n",
      "step:  30\n",
      "step:  31\n",
      "step:  32\n",
      "step:  33\n",
      "step:  34\n",
      "step:  35\n",
      "step:  36\n",
      "step:  37\n",
      "step:  38\n",
      "step:  39\n",
      "step:  40\n",
      "step:  41\n",
      "step:  42\n",
      "step:  43\n",
      "step:  44\n",
      "step:  45\n",
      "step:  46\n",
      "step:  47\n",
      "step:  48\n",
      "step:  49\n"
     ]
    }
   ],
   "source": [
    "def getJ(pos,vel,rMax):\n",
    "    rad=np.linalg.norm(pos,axis=1)\n",
    "    inRad=np.argwhere(rad<rMax)\n",
    "    j=np.cross(pos[inRad],vel[inRad])\n",
    "    return np.sum(j,axis=0)\n",
    "fields=[\n",
    "    [0,'Coordinates'],\n",
    "    [0,'Velocities'],\n",
    "    [4,'Coordinates'],\n",
    "    [4,'Velocities']\n",
    "]\n",
    "whichGal=294303\n",
    "nSnaps=50\n",
    "jTotalGas=np.zeros((nSnaps,3))\n",
    "jTotalStar=np.zeros((nSnaps,3))\n",
    "mStar=np.zeros(nSnaps)\n",
    "mGas=np.zeros(nSnaps)\n",
    "mDM=np.zeros(nSnaps)\n",
    "snaps,subs=iApi.getTree(whichGal)\n",
    "for i in range(nSnaps):\n",
    "    print('step: ',i)\n",
    "    snap=snaps[i]\n",
    "    sub=subs[i]\n",
    "    data=iApi.getGalaxy(sub,fields,snapshot=snap)\n",
    "    subData=iApi.getSubhaloData(sub,snapshot=snap)\n",
    "    rGas=data[0]-subData['SubhaloPos']\n",
    "    vGas=data[1]-subData['SubhaloVel']\n",
    "    rStar=data[2]-subData['SubhaloPos']\n",
    "    vStar=data[3]-subData['SubhaloVel']\n",
    "\n",
    "    rHalf=subData['SubhaloHalfmassRadType'][4]\n",
    "    jTotalGas[i,:]=getJ(rGas,vGas,2*rHalf)\n",
    "    jTotalStar[i,:]=getJ(rStar,vStar,2*rHalf)\n",
    "    mStar[i]=subData['SubhaloMassType'][4]\n",
    "    mGas[i]=subData['SubhaloMassType'][0]\n",
    "    mDM[i]=subData['SubhaloMassType'][1]"
   ]
  },
  {
   "cell_type": "code",
   "execution_count": 86,
   "metadata": {},
   "outputs": [
    {
     "data": {
      "image/png": "[encoded data removed]",
      "text/plain": [
       "<matplotlib.figure.Figure at 0x11a7f3f98>"
      ]
     },
     "metadata": {},
     "output_type": "display_data"
    }
   ],
   "source": [
    "jZ=plt.gca()\n",
    "jZ.plot(range(nSnaps),np.linalg.norm(jTotalGas,axis=1),c='b')\n",
    "jZ.plot(range(nSnaps),np.linalg.norm(jTotalStar,axis=1),c='orange')\n",
    "jZ.set_yscale('log')"
   ]
  },
  {
   "cell_type": "code",
   "execution_count": 87,
   "metadata": {},
   "outputs": [
    {
     "data": {
      "image/png": "[encoded data removed]",
      "text/plain": [
       "<matplotlib.figure.Figure at 0x119ccaa90>"
      ]
     },
     "metadata": {},
     "output_type": "display_data"
    }
   ],
   "source": [
    "mZ=plt.gca()\n",
    "mZ.plot(range(nSnaps),mStar,c='orange')\n",
    "mZ.plot(range(nSnaps),mGas,c='b')\n",
    "mZ.plot(range(nSnaps),mDM,c='k')\n",
    "mZ.set_yscale('log')"
   ]
  },
  {
   "cell_type": "code",
   "execution_count": 151,
   "metadata": {},
   "outputs": [
    {
     "name": "stdout",
     "output_type": "stream",
     "text": [
      "[[  0.00000000e+00   4.67730473e+01   2.09323051e-02   5.08405346e-05]\n",
      " [  1.00000000e+00   4.45622038e+01   2.19480165e-02   5.45854896e-05]\n",
      " [  2.00000000e+00   4.24536738e+01   2.30130139e-02   5.86062963e-05]\n",
      " [  3.00000000e+00   4.06395569e+01   2.40156254e-02   6.24776379e-05]\n",
      " [  4.00000000e+00   3.87125594e+01   2.51809507e-02   6.70797731e-05]\n",
      " [  5.00000000e+00   3.68747395e+01   2.64028218e-02   7.20208952e-05]\n",
      " [  6.00000000e+00   3.51219704e+01   2.76839826e-02   7.73259712e-05]\n",
      " [  7.00000000e+00   3.36139397e+01   2.88900948e-02   8.24338350e-05]\n",
      " [  8.00000000e+00   3.20120740e+01   3.02919471e-02   8.85059012e-05]\n",
      " [  9.00000000e+00   3.04843396e+01   3.17618223e-02   9.50252147e-05]\n",
      " [  1.00000000e+01   2.90273057e+01   3.33030213e-02   1.02024713e-04]\n",
      " [  1.10000000e+01   2.76377005e+01   3.49190047e-02   1.09539760e-04]\n",
      " [  1.20000000e+01   2.64421253e+01   3.64403263e-02   1.16775416e-04]\n",
      " [  1.30000000e+01   2.51721572e+01   3.82085432e-02   1.25376902e-04]\n",
      " [  1.40000000e+01   2.39609608e+01   4.00625604e-02   1.34611891e-04]\n",
      " [  1.50000000e+01   2.28058162e+01   4.20065413e-02   1.44527048e-04]\n",
      " [  1.60000000e+01   2.18119639e+01   4.38366466e-02   1.54073540e-04]\n",
      " [  1.70000000e+01   2.07562707e+01   4.59637598e-02   1.65421999e-04]\n",
      " [  1.80000000e+01   1.97494329e+01   4.81940883e-02   1.77606202e-04]\n",
      " [  1.90000000e+01   1.87891896e+01   5.05326404e-02   1.90687679e-04]\n",
      " [  2.00000000e+01   1.79630246e+01   5.27342036e-02   2.03282661e-04]\n",
      " [  2.10000000e+01   1.70854528e+01   5.52930586e-02   2.18254881e-04]\n",
      " [  2.20000000e+01   1.62484933e+01   5.79760785e-02   2.34329533e-04]\n",
      " [  2.30000000e+01   1.54502666e+01   6.07892883e-02   2.51587718e-04]\n",
      " [  2.40000000e+01   1.47634960e+01   6.34377044e-02   2.68203824e-04]\n",
      " [  2.50000000e+01   1.40339921e+01   6.65159321e-02   2.87955802e-04]\n",
      " [  2.60000000e+01   1.33382483e+01   6.97435265e-02   3.09161745e-04]\n",
      " [  2.70000000e+01   1.26747021e+01   7.31277356e-02   3.31928478e-04]\n",
      " [  2.80000000e+01   1.20418635e+01   7.66761588e-02   3.56370670e-04]\n",
      " [  2.90000000e+01   1.14973880e+01   8.00167206e-02   3.79902701e-04]\n",
      " [  3.00000000e+01   1.09190332e+01   8.38994223e-02   4.07874710e-04]\n",
      " [  3.10000000e+01   1.03674436e+01   8.79705268e-02   4.37904291e-04]\n",
      " [  3.20000000e+01   9.99659047e+00   9.09372776e-02   4.60229617e-04]\n",
      " [  3.30000000e+01   9.84138044e+00   9.22391761e-02   4.70142323e-04]\n",
      " [  3.40000000e+01   9.38877127e+00   9.62577743e-02   5.01178293e-04]\n",
      " [  3.50000000e+01   9.00233985e+00   9.99766069e-02   5.30479217e-04]\n",
      " [  3.60000000e+01   8.90799919e+00   1.00928551e-01   5.38067895e-04]\n",
      " [  3.70000000e+01   8.44947629e+00   1.05825971e-01   5.77668221e-04]\n",
      " [  3.80000000e+01   8.01217295e+00   1.10961031e-01   6.20177376e-04]\n",
      " [  3.90000000e+01   7.59510715e+00   1.16345263e-01   6.65807692e-04]\n",
      " [  4.00000000e+01   7.23627607e+00   1.21414094e-01   7.09731276e-04]\n",
      " [  4.10000000e+01   7.00541705e+00   1.24915416e-01   7.40607420e-04]\n",
      " [  4.20000000e+01   6.85511726e+00   1.27305547e-01   7.61931952e-04]\n",
      " [  4.30000000e+01   6.49159775e+00   1.33482874e-01   8.17959058e-04]\n",
      " [  4.40000000e+01   6.14490120e+00   1.39959948e-01   8.78090027e-04]\n",
      " [  4.50000000e+01   6.01075740e+00   1.42637941e-01   9.03357306e-04]\n",
      " [  4.60000000e+01   5.84661375e+00   1.46057604e-01   9.35961607e-04]\n",
      " [  4.70000000e+01   5.52976581e+00   1.53144849e-01   1.00472465e-03]\n",
      " [  4.80000000e+01   5.22758097e+00   1.60575993e-01   1.07851004e-03]\n",
      " [  4.90000000e+01   4.99593347e+00   1.66779702e-01   1.14139549e-03]\n",
      " [  5.00000000e+01   4.93938066e+00   1.68367723e-01   1.15767767e-03]\n",
      " [  5.10000000e+01   4.66451770e+00   1.76537536e-01   1.24261155e-03]\n",
      " [  5.20000000e+01   4.42803374e+00   1.84228774e-01   1.32432004e-03]\n",
      " [  5.30000000e+01  -1.00000000e+00  -1.00000000e+00  -1.00000000e+00]\n",
      " [  5.40000000e+01   4.00794511e+00   1.99682700e-01   1.49344051e-03]\n",
      " [  5.50000000e+01  -1.00000000e+00  -1.00000000e+00  -1.00000000e+00]\n",
      " [  5.60000000e+01   3.70877426e+00   2.12369492e-01   1.63701225e-03]\n",
      " [  5.70000000e+01   3.49086137e+00   2.22674431e-01   1.75663401e-03]\n",
      " [  5.80000000e+01   3.28303306e+00   2.33479403e-01   1.88484221e-03]\n",
      " [  5.90000000e+01   3.08482264e+00   2.44808671e-01   2.02221743e-03]\n",
      " [  6.00000000e+01   3.00813107e+00   2.49492839e-01   2.07987025e-03]\n",
      " [  6.10000000e+01   2.89578501e+00   2.56687676e-01   2.16937132e-03]\n",
      " [  6.20000000e+01   2.73314262e+00   2.67870827e-01   2.31070099e-03]\n",
      " [  6.30000000e+01   2.57729027e+00   2.79541196e-01   2.46096069e-03]\n",
      " [  6.40000000e+01   2.44422570e+00   2.90341019e-01   2.60243216e-03]\n",
      " [  6.50000000e+01   2.31611074e+00   3.01558083e-01   2.75172966e-03]\n",
      " [  6.60000000e+01   2.20792547e+00   3.11727940e-01   2.88908252e-03]\n",
      " [  6.70000000e+01   2.10326965e+00   3.22240769e-01   3.03297698e-03]\n",
      " [  6.80000000e+01   2.00202814e+00   3.33108137e-01   3.18367736e-03]\n",
      " [  6.90000000e+01   1.90408954e+00   3.44341999e-01   3.34145168e-03]\n",
      " [  7.00000000e+01   1.82268925e+00   3.54272083e-01   3.48252230e-03]\n",
      " [  7.10000000e+01   1.74357057e+00   3.64488528e-01   3.62916045e-03]\n",
      " [  7.20000000e+01   1.66666956e+00   3.74999594e-01   3.78153777e-03]\n",
      " [  7.30000000e+01   1.60423452e+00   3.83989995e-01   3.91302645e-03]\n",
      " [  7.40000000e+01   1.53123903e+00   3.95063441e-01   4.07636916e-03]\n",
      " [  7.50000000e+01   1.47197485e+00   4.04534861e-01   4.21723253e-03]\n",
      " [  7.60000000e+01   1.41409822e+00   4.14233353e-01   4.36251132e-03]\n",
      " [  7.70000000e+01   1.35757667e+00   4.24164361e-01   4.51229958e-03]\n",
      " [  7.80000000e+01   1.30237846e+00   4.34333459e-01   4.66668917e-03]\n",
      " [  7.90000000e+01   1.24847261e+00   4.44746355e-01   4.82576932e-03]\n",
      " [  8.00000000e+01   1.20625808e+00   4.53256130e-01   4.95646865e-03]\n",
      " [  8.10000000e+01   1.15460271e+00   4.64122687e-01   5.12420654e-03]\n",
      " [  8.20000000e+01   1.11415056e+00   4.73003209e-01   5.26193738e-03]\n",
      " [  8.30000000e+01   1.07445789e+00   4.82053650e-01   5.40285734e-03]\n",
      " [  8.40000000e+01   1.03551045e+00   4.91277263e-01   5.54700308e-03]\n",
      " [  8.50000000e+01   9.97294226e-01   5.00677360e-01   5.69440909e-03]\n",
      " [  8.60000000e+01   9.87852811e-01   5.03055354e-01   5.73177384e-03]\n",
      " [  8.70000000e+01   9.50531352e-01   5.12680813e-01   5.88330019e-03]\n",
      " [  8.80000000e+01   9.23000816e-01   5.20020580e-01   5.99912826e-03]\n",
      " [  8.90000000e+01   8.86896938e-01   5.29970652e-01   6.15649824e-03]\n",
      " [  9.00000000e+01   8.51470901e-01   5.40111108e-01   6.31724180e-03]\n",
      " [  9.10000000e+01   8.16709979e-01   5.50445592e-01   6.48138029e-03]\n",
      " [  9.20000000e+01   7.91068249e-01   5.58326016e-01   6.60672319e-03]\n",
      " [  9.30000000e+01   7.57441373e-01   5.69009024e-01   6.77684484e-03]\n",
      " [  9.40000000e+01   7.32636182e-01   5.77155210e-01   6.90669126e-03]\n",
      " [  9.50000000e+01   7.00106354e-01   5.88198496e-01   7.08283440e-03]\n",
      " [  9.60000000e+01   6.76110411e-01   5.96619407e-01   7.21720620e-03]\n",
      " [  9.70000000e+01   6.44641841e-01   6.08035121e-01   7.39939051e-03]\n",
      " [  9.80000000e+01   6.21428745e-01   6.16740022e-01   7.53829521e-03]\n",
      " [  9.90000000e+01   5.98543288e-01   6.25569547e-01   7.67914119e-03]\n",
      " [  1.00000000e+02   5.75980845e-01   6.34525479e-01   7.82192590e-03]\n",
      " [  1.01000000e+02   5.46392183e-01   6.46666487e-01   8.01531463e-03]\n",
      " [  1.02000000e+02   5.24565820e-01   6.55924452e-01   8.16260629e-03]\n",
      " [  1.03000000e+02   5.03047523e-01   6.65314958e-01   8.31181936e-03]\n",
      " [  1.04000000e+02   4.81832943e-01   6.74839903e-01   8.46294602e-03]\n",
      " [  1.05000000e+02   4.60917794e-01   6.84501211e-01   8.61597721e-03]\n",
      " [  1.06000000e+02   4.40297849e-01   6.94300835e-01   8.77090266e-03]\n",
      " [  1.07000000e+02   4.19968942e-01   7.04240755e-01   8.92771091e-03]\n",
      " [  1.08000000e+02   3.99926965e-01   7.14322979e-01   9.08638932e-03]\n",
      " [  1.09000000e+02   3.80167867e-01   7.24549545e-01   9.24692406e-03]\n",
      " [  1.10000000e+02   3.60687657e-01   7.34922519e-01   9.40930019e-03]\n",
      " [  1.11000000e+02   3.47853842e-01   7.41920206e-01   9.51856605e-03]\n",
      " [  1.12000000e+02   3.28829724e-01   7.52541866e-01   9.68397489e-03]\n",
      " [  1.13000000e+02   3.10074120e-01   7.63315590e-01   9.85117985e-03]\n",
      " [  1.14000000e+02   2.91583240e-01   7.74243556e-01   1.00201620e-02]\n",
      " [  1.15000000e+02   2.73353347e-01   7.85327971e-01   1.01909015e-02]\n",
      " [  1.16000000e+02   2.61343256e-01   7.92805602e-01   1.03056938e-02]\n",
      " [  1.17000000e+02   2.43540182e-01   8.04155760e-01   1.04793153e-02]\n",
      " [  1.18000000e+02   2.25988386e-01   8.15668412e-01   1.06546363e-02]\n",
      " [  1.19000000e+02   2.14425036e-01   8.23434935e-01   1.07724499e-02]\n",
      " [  1.20000000e+02   1.97284182e-01   8.35223596e-01   1.09505517e-02]\n",
      " [  1.21000000e+02   1.80385262e-01   8.47181028e-01   1.11302894e-02]\n",
      " [  1.22000000e+02   1.69252033e-01   8.55247604e-01   1.12510110e-02]\n",
      " [  1.23000000e+02   1.52748769e-01   8.67491709e-01   1.14334190e-02]\n",
      " [  1.24000000e+02   1.41876204e-01   8.75751677e-01   1.15558966e-02]\n",
      " [  1.25000000e+02   1.25759332e-01   8.88289327e-01   1.17409017e-02]\n",
      " [  1.26000000e+02   1.09869940e-01   9.01006473e-01   1.19274290e-02]\n",
      " [  1.27000000e+02   9.94018026e-02   9.09585556e-01   1.20526124e-02]\n",
      " [  1.28000000e+02   8.38844308e-02   9.22607588e-01   1.22416146e-02]\n",
      " [  1.29000000e+02   7.36613847e-02   9.31392350e-01   1.23684220e-02]\n",
      " [  1.30000000e+02   5.85073228e-02   9.44726577e-01   1.25598203e-02]\n",
      " [  1.31000000e+02   4.85236300e-02   9.53721949e-01   1.26881984e-02]\n",
      " [  1.32000000e+02   3.37243719e-02   9.67375857e-01   1.28819125e-02]\n",
      " [  1.33000000e+02   2.39744284e-02   9.76586888e-01   1.30118073e-02]\n",
      " [  1.34000000e+02   9.52166697e-03   9.90568140e-01   1.32077556e-02]\n",
      " [  1.35000000e+02   2.22044605e-16   1.00000000e+00   1.33391125e-02]]\n"
     ]
    }
   ],
   "source": [
    "data=iApi.getSimData()\n",
    "print(data['Redshifts'])"
   ]
  },
  {
   "cell_type": "code",
   "execution_count": null,
   "metadata": {
    "collapsed": true
   },
   "outputs": [],
   "source": []
  }
 ],
 "metadata": {
  "kernelspec": {
   "display_name": "Python [default]",
   "language": "python",
   "name": "python3"
  },
  "language_info": {
   "codemirror_mode": {
    "name": "ipython",
    "version": 3
   },
   "file_extension": ".py",
   "mimetype": "text/x-python",
   "name": "python",
   "nbconvert_exporter": "python",
   "pygments_lexer": "ipython3",
   "version": "3.5.3"
  }
 },
 "nbformat": 4,
 "nbformat_minor": 2
}
