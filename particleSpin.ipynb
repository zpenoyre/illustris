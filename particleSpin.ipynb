{
 "cells": [
  {
   "cell_type": "code",
   "execution_count": 5,
   "metadata": {
    "collapsed": true
   },
   "outputs": [],
   "source": [
    "import numpy as np\n",
    "import matplotlib as mpl\n",
    "import matplotlib.pyplot as plt\n",
    "import iApi\n",
    "iApi.headers['api-key']='cc4ff6392e79c9e08c158e5ae5493718'\n",
    "%matplotlib inline"
   ]
  },
  {
   "cell_type": "code",
   "execution_count": 3,
   "metadata": {},
   "outputs": [
    {
     "name": "stdout",
     "output_type": "stream",
     "text": [
      "4.498502151575286e-06\n",
      "0.00468012113274\n"
     ]
    }
   ],
   "source": [
    "#unrelated but wanted to save this\n",
    "from astropy import constants as const\n",
    "G=const.G.to('kpc3 / (solMass Gyr2)')\n",
    "print(G.value)\n",
    "def deltaV(G,M,b,y,r,v):\n",
    "    return (6*np.pi*G*M*y*b*np.power(r,2))/(v*np.power(np.power(b,2)+np.power(y,2),5/2))\n",
    "M=2e10\n",
    "b=100\n",
    "r=10\n",
    "y=np.pi*r\n",
    "v=100\n",
    "print(deltaV(5e-6,M,b,y,r,v)/v)"
   ]
  },
  {
   "cell_type": "code",
   "execution_count": 47,
   "metadata": {},
   "outputs": [
    {
     "name": "stdout",
     "output_type": "stream",
     "text": [
      "step:  0\n",
      "step:  1\n",
      "step:  2\n",
      "step:  3\n",
      "step:  4\n",
      "step:  5\n",
      "step:  6\n",
      "step:  7\n",
      "step:  8\n",
      "step:  9\n"
     ]
    }
   ],
   "source": [
    "fields=[\n",
    "    [0,'Coordinates'],\n",
    "    [0,'Velocities']\n",
    "]\n",
    "whichGal=100\n",
    "js=np.zeros((10,3))\n",
    "snaps,subs=iApi.getTree(100)\n",
    "for i in range(10):\n",
    "    print('step: ',i)\n",
    "    snap=snaps[i]\n",
    "    sub=subs[i]\n",
    "    data=iApi.getGalaxy(sub,fields,snapshot=snap)\n",
    "    rGas=data[0]\n",
    "    vGas=data[1]\n",
    "    subData=iApi.getSubhaloData(sub,snapshot=snap)\n",
    "    rGas=rGas-subData['SubhaloPos']\n",
    "    vGas=vGas-subData['SubhaloVel']\n",
    "    jGas=np.cross(rGas,vGas)\n",
    "    jTotalGas=np.sum(jGas,axis=0)\n",
    "    js[i,:]=jTotalGas"
   ]
  },
  {
   "cell_type": "code",
   "execution_count": 50,
   "metadata": {},
   "outputs": [
    {
     "data": {
      "text/plain": [
       "[<matplotlib.lines.Line2D at 0x115606940>]"
      ]
     },
     "execution_count": 50,
     "metadata": {},
     "output_type": "execute_result"
    },
    {
     "data": {
      "image/png": "[encoded data removed]",
      "text/plain": [
       "<matplotlib.figure.Figure at 0x114d2ab38>"
      ]
     },
     "metadata": {},
     "output_type": "display_data"
    }
   ],
   "source": [
    "jZ=plt.gca()\n",
    "jZ.plot(range(10),js[:,0])\n",
    "jZ.plot(range(10),js[:,1])\n",
    "jZ.plot(range(10),js[:,2])"
   ]
  },
  {
   "cell_type": "code",
   "execution_count": null,
   "metadata": {
    "collapsed": true
   },
   "outputs": [],
   "source": []
  }
 ],
 "metadata": {
  "kernelspec": {
   "display_name": "Python [default]",
   "language": "python",
   "name": "python3"
  },
  "language_info": {
   "codemirror_mode": {
    "name": "ipython",
    "version": 3
   },
   "file_extension": ".py",
   "mimetype": "text/x-python",
   "name": "python",
   "nbconvert_exporter": "python",
   "pygments_lexer": "ipython3",
   "version": "3.5.3"
  }
 },
 "nbformat": 4,
 "nbformat_minor": 2
}
