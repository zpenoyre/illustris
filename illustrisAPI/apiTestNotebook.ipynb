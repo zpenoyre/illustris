{
 "cells": [
  {
   "cell_type": "code",
   "execution_count": 27,
   "metadata": {},
   "outputs": [],
   "source": [
    "import data as iApi\n",
    "import numpy as np\n",
    "import matplotlib.pyplot as plt\n",
    "import matplotlib"
   ]
  },
  {
   "cell_type": "code",
   "execution_count": 30,
   "metadata": {},
   "outputs": [
    {
     "name": "stdout",
     "output_type": "stream",
     "text": [
      "{'Omega_B': 0.0456, 'MassGas': 0.0056683392, 'Omega_L': 0.7274, 'Simulation': 'Illustris-3', 'BoxSize': 75000.0, 'Omega_0': 0.2726, 'h': 0.704, 'MassDM': 0.0282173775591101}\n",
      "{'NumPartDM': 94196375, 'NumSubhalos': 134697, 'NumPartBH': 34263, 'Redshift': 0.5759808451078869, 'Simulation': 'Illustris-3', 'NumPartTracer': 94196375, 'NumHalos': 134841, 'SnapshotNumber': 100, 'NumPartStar': 3380619, 'NumPartGas': 88683022}\n"
     ]
    }
   ],
   "source": [
    "simData=iApi.getSimData(simulation='Illustris-3')\n",
    "print(simData)\n",
    "snapData=iApi.getSnapData(snapshot=100,simulation='Illustris-3')\n",
    "print(snapData)"
   ]
  },
  {
   "cell_type": "code",
   "execution_count": null,
   "metadata": {},
   "outputs": [],
   "source": [
    "#example of getting subhalo data from z~=0.5 in illustris 3\n",
    "haloFirstSub=iApi.getHaloField('GroupFirstSub',snapshot=100,simulation='Illustris-3')\n",
    "haloMass=iApi.getHaloField('GroupMass',snapshot=100,simulation='Illustris-3')\n",
    "subVelDisp=iApi.getSubhaloField('SubhaloVelDisp',snapshot=100,simulation='Illustris-3')\n",
    "subBhMass=iApi.getSubhaloField('SubhaloBHMass',snapshot=100,simulation='Illustris-3')"
   ]
  },
  {
   "cell_type": "code",
   "execution_count": null,
   "metadata": {},
   "outputs": [
    {
     "name": "stderr",
     "output_type": "stream",
     "text": [
      "/Users/Zephyr/Astro/anaconda/lib/python3.5/site-packages/matplotlib/scale.py:103: RuntimeWarning: divide by zero encountered in log\n",
      "  return np.divide(np.log(a, out=a), np.log(self.base), out=a)\n"
     ]
    }
   ],
   "source": [
    "#example plots of stellar component of the black hole sigma relation for central galaxies\n",
    "bigGalaxies=np.argwhere(haloMass>100)\n",
    "mSigma=plt.gca()\n",
    "mSigma.scatter(subVelDisp[haloFirstSub[bigGalaxies]],subBhMass[haloFirstSub[bigGalaxies]],s=0.5,c='k')\n",
    "mSigma.set_yscale('log')\n",
    "mSigma.set_xscale('log')\n",
    "mSigma.set_ylim(1e-5,1)\n",
    "mSigma.set_xlabel(r'$\\sigma$')\n",
    "mSigma.set_ylabel(r'$M_{BH}$')\n",
    "plt.show()"
   ]
  },
  {
   "cell_type": "code",
   "execution_count": 124,
   "metadata": {
    "collapsed": true
   },
   "outputs": [],
   "source": [
    "#example of getting data from a particular galaxy (from online)\n",
    "fields=[\n",
    "    [4,'Coordinates'],\n",
    "    [4,'Velocities'],\n",
    "    [4,'Masses']\n",
    "]\n",
    "data=iApi.getGalaxy(1,fields,snapshot=100,simulation='Illustris-3')\n",
    "rStar=data[0][:,:]\n",
    "vStar=data[1][:,:]\n",
    "mStar=data[2][:]\n",
    "subData=iApi.getSubhaloData(1,snapshot=100,simulation='Illustris-3')"
   ]
  },
  {
   "cell_type": "code",
   "execution_count": 125,
   "metadata": {},
   "outputs": [
    {
     "name": "stderr",
     "output_type": "stream",
     "text": [
      "/Users/Zephyr/Astro/anaconda/lib/python3.5/site-packages/ipykernel/__main__.py:36: RuntimeWarning: divide by zero encountered in log\n"
     ]
    },
    {
     "data": {
      "image/png": "[encoded data removed]",
      "text/plain": [
       "<matplotlib.figure.Figure at 0x110902a90>"
      ]
     },
     "metadata": {},
     "output_type": "display_data"
    }
   ],
   "source": [
    "#example plots of stellar component of the galaxy (requires running below cell first! sorry...)\n",
    "fig = plt.figure(figsize=(4,12))\n",
    "grid=matplotlib.gridspec.GridSpec(3,1)\n",
    "#moves to center of mass frame\n",
    "subhaloPos=np.array(subData['SubhaloPos']) #(note: rerunning this cell will uncenter this galaxy!)\n",
    "rStar=rStar-subhaloPos\n",
    "subhaloVel=np.array(subData['SubhaloVel'])\n",
    "vStar=vStar-subhaloVel\n",
    "#reorients with z-axis along direction of galaxy angular momentum\n",
    "jUnit=findPlane(rStar,vStar)\n",
    "rStar=projectPos(jUnit,rStar)\n",
    "vStar=projectPos(jUnit,vStar)\n",
    "#plot map of projected density\n",
    "nPixels=32\n",
    "edgeDist=10\n",
    "plotMap(rStar,mStar,mStar,nPixels,edgeDist,grid,0,0,useMean=0,projection=1) #side on stellar density\n",
    "plotMap(rStar,mStar,mStar,nPixels,edgeDist,grid,0,1,useMean=1,projection=1) #side on mean stellar mass\n",
    "plotMap(rStar,mStar,mStar,nPixels,edgeDist,grid,0,2,useMean=0) #top down stellar density\n",
    "plt.show()"
   ]
  },
  {
   "cell_type": "code",
   "execution_count": 122,
   "metadata": {
    "collapsed": true
   },
   "outputs": [],
   "source": [
    "# routines used for plotting and data handling in the examples\n",
    "def findPlane(rStar,vStar): #finds the angular momentum of particles\n",
    "    jStar=np.cross(rStar,vStar)\n",
    "    j=np.sum(jStar,axis=0)\n",
    "    j=j/np.linalg.norm(j)\n",
    "    return j\n",
    "def projectPos(j,r): #projects positions relative to angular momentum vector\n",
    "    z=j[0]*r[:,0]+j[1]*r[:,1]+j[2]*r[:,2]\n",
    "    n=np.array([0,-j[2],j[1]])\n",
    "    n=n/np.linalg.norm(n)\n",
    "    m=np.cross(j,n)\n",
    "    x=n[0]*r[:,0]+n[1]*r[:,1]+n[2]*r[:,2]\n",
    "    y=m[0]*r[:,0]+m[1]*r[:,1]+m[2]*r[:,2]\n",
    "    return np.vstack((x,y,z)).T\n",
    "def findMap(r,m,data,nPixels,edgeDist,mean=1,projectAxis=2): #finds properties of particles in projected pixels\n",
    "    vertAxis=(projectAxis+1)%3\n",
    "    horzAxis=(projectAxis+2)%3\n",
    "    pixels=np.zeros((nPixels,nPixels))\n",
    "    for i in range(nPixels):\n",
    "        for j in range(nPixels):\n",
    "            inPix=np.argwhere((edgeDist*(((2*i)/nPixels)-1)<r[:,vertAxis])\n",
    "                            &(edgeDist*(((2*j)/nPixels)-1)<r[:,horzAxis])\n",
    "                         &(edgeDist*(((2*(i+1))/nPixels)-1)>r[:,vertAxis])\n",
    "                         &(edgeDist*(((2*(j+1))/nPixels)-1)>r[:,horzAxis]))\n",
    "            if inPix.size==0:\n",
    "                continue\n",
    "            if mean==1: #return the mass weighted mean\n",
    "                pixels[i,j]=np.sum(data[inPix]*m[inPix])/np.sum(m[inPix])\n",
    "            if mean==0:\n",
    "                pixels[i,j]=np.sum(data[inPix])\n",
    "    return pixels\n",
    "def plotMap(r,m,data,nPixels,edgeDist,grid,iPlot,jPlot,logPlot=1,useMean=1,projection=2): #plots the galaxy as a series of pixels\n",
    "    pixels = findMap(r,m,data,nPixels,edgeDist,mean=useMean,projectAxis=projection)\n",
    "    plot = plt.subplot(grid[jPlot,iPlot])\n",
    "    if logPlot==1:\n",
    "        plot.imshow(np.log(pixels), interpolation ='none', aspect = 'auto',cmap='Spectral')\n",
    "    else:\n",
    "        plot.imshow(pixels, interpolation ='none', aspect = 'auto',cmap='Spectral')"
   ]
  },
  {
   "cell_type": "code",
   "execution_count": null,
   "metadata": {
    "collapsed": true
   },
   "outputs": [],
   "source": []
  }
 ],
 "metadata": {
  "kernelspec": {
   "display_name": "Python [default]",
   "language": "python",
   "name": "python3"
  },
  "language_info": {
   "codemirror_mode": {
    "name": "ipython",
    "version": 3
   },
   "file_extension": ".py",
   "mimetype": "text/x-python",
   "name": "python",
   "nbconvert_exporter": "python",
   "pygments_lexer": "ipython3",
   "version": "3.5.3"
  }
 },
 "nbformat": 4,
 "nbformat_minor": 2
}
