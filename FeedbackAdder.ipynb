{
 "cells": [
  {
   "cell_type": "code",
   "execution_count": 1,
   "metadata": {
    "collapsed": true
   },
   "outputs": [],
   "source": [
    "import numpy as np\n",
    "import matplotlib as mpl\n",
    "import matplotlib.pyplot as plt\n",
    "import illustrisAPI.data as iApi\n",
    "%matplotlib inline"
   ]
  },
  {
   "cell_type": "code",
   "execution_count": 2,
   "metadata": {
    "collapsed": true
   },
   "outputs": [],
   "source": [
    "def getData(snap):\n",
    "    fileName='Data/full_data/FullData_Snap.'+str(snap)+'.txt'\n",
    "    fieldwidth = 16\n",
    "    numfields = 5\n",
    "    #data with gaps\n",
    "    borkedData=np.genfromtxt(fileName,delimiter=(fieldwidth,)*numfields)\n",
    "    #each part of the rows of data\n",
    "    a=borkedData[::4,:]\n",
    "    b=borkedData[1::4,:]\n",
    "    c=borkedData[2::4,:]\n",
    "    d=borkedData[3::4,:3]\n",
    "    nGal=np.shape(a)[0]\n",
    "    #extra space for new data we're adding\n",
    "    e=np.zeros((nGal,6))\n",
    "    data=np.hstack([a,b,c,d,e])\n",
    "    return data\n",
    "def getHistory(sub):\n",
    "    passFail=1\n",
    "    fileName='Data/AccHistory/AccHistInt_SubGr.'+str(int(sub))+'.txt'\n",
    "    fieldwidth = 16\n",
    "    numfields = 5\n",
    "    #data with gaps\n",
    "    borkedHistory=np.genfromtxt(fileName,delimiter=(fieldwidth,)*numfields)\n",
    "    a=borkedHistory[::4,:]\n",
    "    b=borkedHistory[1::4,:]\n",
    "    c=borkedHistory[2::4,:]\n",
    "    d=borkedHistory[3::4,:1]\n",
    "    if (d.shape[0]==0):\n",
    "        #print('sub: ',sub,' is weird, skipping...')\n",
    "        return np.zeros(1)\n",
    "    history=np.hstack([a,b,c,d])\n",
    "    return history\n",
    "def getGalData(snapshot):\n",
    "    fileName='Data/GalaxyData/GalaxyData_Snap.'+str(snapshot)+'.txt'\n",
    "    return np.genfromtxt(fileName)"
   ]
  },
  {
   "cell_type": "code",
   "execution_count": 46,
   "metadata": {
    "scrolled": true
   },
   "outputs": [
    {
     "name": "stdout",
     "output_type": "stream",
     "text": [
      "starting snap:  130\n"
     ]
    },
    {
     "ename": "OSError",
     "evalue": "Unable to open file (Truncated file: eof = 2223806, sblock->base_addr = 0, stored_eoa = 17633068)",
     "output_type": "error",
     "traceback": [
      "\u001b[0;31m---------------------------------------------------------------------------\u001b[0m",
      "\u001b[0;31mOSError\u001b[0m                                   Traceback (most recent call last)",
      "\u001b[0;32m<ipython-input-46-01c16904f9ee>\u001b[0m in \u001b[0;36m<module>\u001b[0;34m()\u001b[0m\n\u001b[1;32m      7\u001b[0m     \u001b[0mzData\u001b[0m\u001b[0;34m=\u001b[0m\u001b[0mgetData\u001b[0m\u001b[0;34m(\u001b[0m\u001b[0msnap\u001b[0m\u001b[0;34m)\u001b[0m\u001b[0;34m\u001b[0m\u001b[0m\n\u001b[1;32m      8\u001b[0m \u001b[0;34m\u001b[0m\u001b[0m\n\u001b[0;32m----> 9\u001b[0;31m     \u001b[0mmBh\u001b[0m\u001b[0;34m=\u001b[0m\u001b[0miApi\u001b[0m\u001b[0;34m.\u001b[0m\u001b[0mgetSubhaloField\u001b[0m\u001b[0;34m(\u001b[0m\u001b[0;34m'SubhaloBHMass'\u001b[0m\u001b[0;34m,\u001b[0m\u001b[0msnapshot\u001b[0m\u001b[0;34m=\u001b[0m\u001b[0msnap\u001b[0m\u001b[0;34m,\u001b[0m\u001b[0msimulation\u001b[0m\u001b[0;34m=\u001b[0m\u001b[0;34m'Illustris-1'\u001b[0m\u001b[0;34m)\u001b[0m\u001b[0;34m\u001b[0m\u001b[0m\n\u001b[0m\u001b[1;32m     10\u001b[0m     \u001b[0mmDotBh\u001b[0m\u001b[0;34m=\u001b[0m\u001b[0miApi\u001b[0m\u001b[0;34m.\u001b[0m\u001b[0mgetSubhaloField\u001b[0m\u001b[0;34m(\u001b[0m\u001b[0;34m'SubhaloBHMdot'\u001b[0m\u001b[0;34m,\u001b[0m\u001b[0msnapshot\u001b[0m\u001b[0;34m=\u001b[0m\u001b[0msnap\u001b[0m\u001b[0;34m,\u001b[0m\u001b[0msimulation\u001b[0m\u001b[0;34m=\u001b[0m\u001b[0;34m'Illustris-1'\u001b[0m\u001b[0;34m)\u001b[0m\u001b[0;34m\u001b[0m\u001b[0m\n\u001b[1;32m     11\u001b[0m     \u001b[0msfr\u001b[0m\u001b[0;34m=\u001b[0m\u001b[0miApi\u001b[0m\u001b[0;34m.\u001b[0m\u001b[0mgetSubhaloField\u001b[0m\u001b[0;34m(\u001b[0m\u001b[0;34m'SubhaloSFR'\u001b[0m\u001b[0;34m,\u001b[0m\u001b[0msnapshot\u001b[0m\u001b[0;34m=\u001b[0m\u001b[0msnap\u001b[0m\u001b[0;34m,\u001b[0m\u001b[0msimulation\u001b[0m\u001b[0;34m=\u001b[0m\u001b[0;34m'Illustris-1'\u001b[0m\u001b[0;34m)\u001b[0m\u001b[0;34m\u001b[0m\u001b[0m\n",
      "\u001b[0;32m/Users/Zephyr/Google Drive/astro/illustris/illustrisAPI/data.py\u001b[0m in \u001b[0;36mgetSubhaloField\u001b[0;34m(field, simulation, snapshot)\u001b[0m\n\u001b[1;32m     81\u001b[0m     \u001b[0murl\u001b[0m\u001b[0;34m=\u001b[0m\u001b[0;34m'http://www.illustris-project.org/api/'\u001b[0m\u001b[0;34m+\u001b[0m\u001b[0msimulation\u001b[0m\u001b[0;34m+\u001b[0m\u001b[0;34m'/files/groupcat-'\u001b[0m\u001b[0;34m+\u001b[0m\u001b[0mstr\u001b[0m\u001b[0;34m(\u001b[0m\u001b[0msnapshot\u001b[0m\u001b[0;34m)\u001b[0m\u001b[0;34m+\u001b[0m\u001b[0;34m'/?Subhalo='\u001b[0m\u001b[0;34m+\u001b[0m\u001b[0mfield\u001b[0m\u001b[0;34m\u001b[0m\u001b[0m\n\u001b[1;32m     82\u001b[0m     \u001b[0mdataFile\u001b[0m\u001b[0;34m=\u001b[0m\u001b[0mget\u001b[0m\u001b[0;34m(\u001b[0m\u001b[0murl\u001b[0m\u001b[0;34m)\u001b[0m\u001b[0;34m\u001b[0m\u001b[0m\n\u001b[0;32m---> 83\u001b[0;31m     \u001b[0;32mwith\u001b[0m \u001b[0mh5py\u001b[0m\u001b[0;34m.\u001b[0m\u001b[0mFile\u001b[0m\u001b[0;34m(\u001b[0m\u001b[0mdataFile\u001b[0m\u001b[0;34m,\u001b[0m\u001b[0;34m'r'\u001b[0m\u001b[0;34m)\u001b[0m \u001b[0;32mas\u001b[0m \u001b[0mf\u001b[0m\u001b[0;34m:\u001b[0m\u001b[0;34m\u001b[0m\u001b[0m\n\u001b[0m\u001b[1;32m     84\u001b[0m         \u001b[0mdata\u001b[0m\u001b[0;34m=\u001b[0m\u001b[0mnp\u001b[0m\u001b[0;34m.\u001b[0m\u001b[0marray\u001b[0m\u001b[0;34m(\u001b[0m\u001b[0mf\u001b[0m\u001b[0;34m[\u001b[0m\u001b[0;34m'Subhalo'\u001b[0m\u001b[0;34m]\u001b[0m\u001b[0;34m[\u001b[0m\u001b[0mfield\u001b[0m\u001b[0;34m]\u001b[0m\u001b[0;34m)\u001b[0m\u001b[0;34m\u001b[0m\u001b[0m\n\u001b[1;32m     85\u001b[0m     \u001b[0;32mreturn\u001b[0m \u001b[0mdata\u001b[0m\u001b[0;34m\u001b[0m\u001b[0m\n",
      "\u001b[0;32m/Users/Zephyr/Astro/anaconda/lib/python3.5/site-packages/h5py/_hl/files.py\u001b[0m in \u001b[0;36m__init__\u001b[0;34m(self, name, mode, driver, libver, userblock_size, swmr, **kwds)\u001b[0m\n\u001b[1;32m    269\u001b[0m \u001b[0;34m\u001b[0m\u001b[0m\n\u001b[1;32m    270\u001b[0m                 \u001b[0mfapl\u001b[0m \u001b[0;34m=\u001b[0m \u001b[0mmake_fapl\u001b[0m\u001b[0;34m(\u001b[0m\u001b[0mdriver\u001b[0m\u001b[0;34m,\u001b[0m \u001b[0mlibver\u001b[0m\u001b[0;34m,\u001b[0m \u001b[0;34m**\u001b[0m\u001b[0mkwds\u001b[0m\u001b[0;34m)\u001b[0m\u001b[0;34m\u001b[0m\u001b[0m\n\u001b[0;32m--> 271\u001b[0;31m                 \u001b[0mfid\u001b[0m \u001b[0;34m=\u001b[0m \u001b[0mmake_fid\u001b[0m\u001b[0;34m(\u001b[0m\u001b[0mname\u001b[0m\u001b[0;34m,\u001b[0m \u001b[0mmode\u001b[0m\u001b[0;34m,\u001b[0m \u001b[0muserblock_size\u001b[0m\u001b[0;34m,\u001b[0m \u001b[0mfapl\u001b[0m\u001b[0;34m,\u001b[0m \u001b[0mswmr\u001b[0m\u001b[0;34m=\u001b[0m\u001b[0mswmr\u001b[0m\u001b[0;34m)\u001b[0m\u001b[0;34m\u001b[0m\u001b[0m\n\u001b[0m\u001b[1;32m    272\u001b[0m \u001b[0;34m\u001b[0m\u001b[0m\n\u001b[1;32m    273\u001b[0m                 \u001b[0;32mif\u001b[0m \u001b[0mswmr_support\u001b[0m\u001b[0;34m:\u001b[0m\u001b[0;34m\u001b[0m\u001b[0m\n",
      "\u001b[0;32m/Users/Zephyr/Astro/anaconda/lib/python3.5/site-packages/h5py/_hl/files.py\u001b[0m in \u001b[0;36mmake_fid\u001b[0;34m(name, mode, userblock_size, fapl, fcpl, swmr)\u001b[0m\n\u001b[1;32m     99\u001b[0m         \u001b[0;32mif\u001b[0m \u001b[0mswmr\u001b[0m \u001b[0;32mand\u001b[0m \u001b[0mswmr_support\u001b[0m\u001b[0;34m:\u001b[0m\u001b[0;34m\u001b[0m\u001b[0m\n\u001b[1;32m    100\u001b[0m             \u001b[0mflags\u001b[0m \u001b[0;34m|=\u001b[0m \u001b[0mh5f\u001b[0m\u001b[0;34m.\u001b[0m\u001b[0mACC_SWMR_READ\u001b[0m\u001b[0;34m\u001b[0m\u001b[0m\n\u001b[0;32m--> 101\u001b[0;31m         \u001b[0mfid\u001b[0m \u001b[0;34m=\u001b[0m \u001b[0mh5f\u001b[0m\u001b[0;34m.\u001b[0m\u001b[0mopen\u001b[0m\u001b[0;34m(\u001b[0m\u001b[0mname\u001b[0m\u001b[0;34m,\u001b[0m \u001b[0mflags\u001b[0m\u001b[0;34m,\u001b[0m \u001b[0mfapl\u001b[0m\u001b[0;34m=\u001b[0m\u001b[0mfapl\u001b[0m\u001b[0;34m)\u001b[0m\u001b[0;34m\u001b[0m\u001b[0m\n\u001b[0m\u001b[1;32m    102\u001b[0m     \u001b[0;32melif\u001b[0m \u001b[0mmode\u001b[0m \u001b[0;34m==\u001b[0m \u001b[0;34m'r+'\u001b[0m\u001b[0;34m:\u001b[0m\u001b[0;34m\u001b[0m\u001b[0m\n\u001b[1;32m    103\u001b[0m         \u001b[0mfid\u001b[0m \u001b[0;34m=\u001b[0m \u001b[0mh5f\u001b[0m\u001b[0;34m.\u001b[0m\u001b[0mopen\u001b[0m\u001b[0;34m(\u001b[0m\u001b[0mname\u001b[0m\u001b[0;34m,\u001b[0m \u001b[0mh5f\u001b[0m\u001b[0;34m.\u001b[0m\u001b[0mACC_RDWR\u001b[0m\u001b[0;34m,\u001b[0m \u001b[0mfapl\u001b[0m\u001b[0;34m=\u001b[0m\u001b[0mfapl\u001b[0m\u001b[0;34m)\u001b[0m\u001b[0;34m\u001b[0m\u001b[0m\n",
      "\u001b[0;32mh5py/_objects.pyx\u001b[0m in \u001b[0;36mh5py._objects.with_phil.wrapper (/Users/ilan/minonda/conda-bld/h5py_1490026960179/work/h5py/_objects.c:2846)\u001b[0;34m()\u001b[0m\n",
      "\u001b[0;32mh5py/_objects.pyx\u001b[0m in \u001b[0;36mh5py._objects.with_phil.wrapper (/Users/ilan/minonda/conda-bld/h5py_1490026960179/work/h5py/_objects.c:2804)\u001b[0;34m()\u001b[0m\n",
      "\u001b[0;32mh5py/h5f.pyx\u001b[0m in \u001b[0;36mh5py.h5f.open (/Users/ilan/minonda/conda-bld/h5py_1490026960179/work/h5py/h5f.c:2123)\u001b[0;34m()\u001b[0m\n",
      "\u001b[0;31mOSError\u001b[0m: Unable to open file (Truncated file: eof = 2223806, sblock->base_addr = 0, stored_eoa = 17633068)"
     ]
    }
   ],
   "source": [
    "#adding m dot and history data, reformatting fullData -> galaxyData\n",
    "nSkips=0\n",
    "nSkipsAlt=0\n",
    "z0data=getData(135)\n",
    "z0subs=z0data[:,1]\n",
    "for snap in range(130,136):\n",
    "    print('starting snap: ',snap)\n",
    "    zData=getData(snap)\n",
    "    \n",
    "    mBh=iApi.getSubhaloField('SubhaloBHMass',snapshot=snap,simulation='Illustris-1')\n",
    "    mDotBh=iApi.getSubhaloField('SubhaloBHMdot',snapshot=snap,simulation='Illustris-1')\n",
    "    sfr=iApi.getSubhaloField('SubhaloSFR',snapshot=snap,simulation='Illustris-1')\n",
    "    \n",
    "    zData[:,18]=mBh[zData[:,1].astype(int)]*0.719 #sim units as 10^10 M_odot /h -> 10^10 M_odot\n",
    "    zData[:,19]=mDotBh[zData[:,1].astype(int)]*0.978#sim units as 10^10 M_odot /h (0.978 Gyr/h) -> 10^10 M_odot / Gyr\n",
    "    zData[:,20]=sfr[zData[:,1].astype(int)]/10#sim units as M_odot/yr -> 10^10 M_odot / Gyr\n",
    "    zData[:,21]=-1*np.ones(np.shape(zData)[0]) #initializing these values as -1\n",
    "    zData[:,22]=-1*np.ones(np.shape(zData)[0])\n",
    "    zData[:,23]=-1*np.ones(np.shape(zData)[0])\n",
    "    \n",
    "    zSubs=zData[:,1]\n",
    "    history=getHistory(0)\n",
    "    for sub in z0subs:\n",
    "        history=getHistory(sub)\n",
    "        if (history.size==1):\n",
    "            continue\n",
    "        thisEntry=np.argwhere((history[:,0]==0) & (history[:,1]==snap))\n",
    "        if (thisEntry.size==0):\n",
    "            nSkips+=1\n",
    "            continue\n",
    "        thisSub=int(history[thisEntry,4])\n",
    "        zEntry=np.argwhere(zSubs==thisSub)\n",
    "        zData[zEntry,21]=sub\n",
    "        if (snap<135):\n",
    "            nextEntry=np.argwhere((history[:,0]==0) & (history[:,1]==snap+1))\n",
    "            if (nextEntry.size==0):\n",
    "                nSkipsAlt+=1\n",
    "                continue\n",
    "            nextSub=history[nextEntry,4]\n",
    "            zData[zEntry,22]=nextSub\n",
    "        if (snap>85):\n",
    "            prevEntry=np.argwhere((history[:,0]==0) & (history[:,1]==snap-1))\n",
    "            if (prevEntry.size==0):\n",
    "                nSkipsAlt+=1\n",
    "                continue\n",
    "            prevSub=history[prevEntry,4]\n",
    "            zData[zEntry,23]=prevSub\n",
    "    saveName='Data/GalaxyData/GalaxyData_Snap.'+str(snap)+'.txt'\n",
    "    np.savetxt(saveName,zData)"
   ]
  },
  {
   "cell_type": "code",
   "execution_count": 3,
   "metadata": {},
   "outputs": [
    {
     "name": "stdout",
     "output_type": "stream",
     "text": [
      "starting snap:  85\n",
      "starting snap:  86\n",
      "starting snap:  87\n",
      "starting snap:  88\n",
      "starting snap:  89\n",
      "starting snap:  90\n",
      "starting snap:  91\n",
      "starting snap:  92\n",
      "starting snap:  93\n",
      "starting snap:  94\n",
      "starting snap:  95\n",
      "starting snap:  96\n",
      "starting snap:  97\n",
      "starting snap:  98\n",
      "starting snap:  99\n",
      "starting snap:  100\n",
      "starting snap:  101\n",
      "starting snap:  102\n",
      "starting snap:  103\n",
      "starting snap:  104\n",
      "starting snap:  105\n",
      "starting snap:  106\n",
      "starting snap:  107\n",
      "starting snap:  108\n",
      "starting snap:  109\n",
      "starting snap:  110\n",
      "starting snap:  111\n",
      "starting snap:  112\n",
      "starting snap:  113\n",
      "starting snap:  114\n",
      "starting snap:  115\n",
      "starting snap:  116\n",
      "starting snap:  117\n",
      "starting snap:  118\n",
      "starting snap:  119\n",
      "starting snap:  120\n",
      "starting snap:  121\n"
     ]
    },
    {
     "name": "stderr",
     "output_type": "stream",
     "text": [
      "/Users/Zephyr/Astro/anaconda/lib/python3.5/site-packages/ipykernel/__main__.py:8: RuntimeWarning: invalid value encountered in sqrt\n"
     ]
    },
    {
     "name": "stdout",
     "output_type": "stream",
     "text": [
      "starting snap:  122\n",
      "starting snap:  123\n",
      "starting snap:  124\n",
      "starting snap:  125\n",
      "starting snap:  126\n",
      "starting snap:  127\n",
      "starting snap:  128\n",
      "starting snap:  129\n",
      "starting snap:  130\n",
      "starting snap:  131\n",
      "starting snap:  132\n",
      "starting snap:  133\n",
      "starting snap:  134\n",
      "starting snap:  135\n"
     ]
    }
   ],
   "source": [
    "def lambda_cutoff_approx(eps):\n",
    "    #v_s=1*np.sqrt(eps/(1-1*eps))\n",
    "    v_s=0.831*np.sqrt(eps/(1-0.896*eps))\n",
    "    l=1.1*v_s/np.sqrt(1+(1.1**2)*np.power(v_s,2))\n",
    "    l_cut=0.65*l\n",
    "    return l_cut\n",
    "def lambda_cutoff(eps):\n",
    "    e=np.sqrt(1-np.power(1-eps,2))\n",
    "    o=0.5 * (np.arcsin(e)-e*np.sqrt(1-np.power(e,2))) / (e*np.sqrt(1-np.power(e,2)) - (1-np.power(e,2))*np.arcsin(e))\n",
    "    d=0.7*eps\n",
    "    v_s=np.sqrt((o*(1-d)-1)/(1+0.15*o*(1-d)))\n",
    "    l=1.1*v_s/np.sqrt(1+(1.1**2)*np.power(v_s,2))\n",
    "    l_cut=0.65*l\n",
    "    return l_cut\n",
    "#eps=np.linspace(0,1,1000)\n",
    "#plt.plot(eps,lambda_cutoff(eps))\n",
    "\n",
    "#adding normalised lambda_R / lambda_R,cutoff to full data\n",
    "for snap in range(85,136):\n",
    "    print('starting snap: ',snap)\n",
    "    data=getGalData(snap)\n",
    "    lambdas=data[:,17]\n",
    "    eps=data[:,15]+0.01\n",
    "    l_cut=lambda_cutoff(eps)\n",
    "    data[:,16]=lambdas/l_cut #replacing (effectively useless) alternative epsilon with scaled lambda_R/lambda_R,cutoff\n",
    "    saveName='Data/GalaxyData/GalaxyData_Snap.'+str(snap)+'.txt'\n",
    "    np.savetxt(saveName,data)"
   ]
  },
  {
   "cell_type": "code",
   "execution_count": 4,
   "metadata": {},
   "outputs": [
    {
     "name": "stdout",
     "output_type": "stream",
     "text": [
      "0.10542844324809332\n",
      "0.8945715567519067\n"
     ]
    }
   ],
   "source": [
    "snap=100\n",
    "savedData=getGalData(snap)\n",
    "SRs=np.argwhere((savedData[:,14]<0.5) & (savedData[:,16]<1))\n",
    "FRs=np.argwhere((savedData[:,14]<0.5) & (savedData[:,16]>1))\n",
    "ellips=np.argwhere(savedData[:,14]<0.5)\n",
    "print(SRs.size/ellips.size)\n",
    "print(FRs.size/ellips.size)"
   ]
  },
  {
   "cell_type": "code",
   "execution_count": 5,
   "metadata": {},
   "outputs": [
    {
     "name": "stdout",
     "output_type": "stream",
     "text": [
      "[  0.00000000e+00   0.00000000e+00   9.01650010e+01   1.51611000e+03\n",
      "   1.41842100e+04   1.61444530e+03   3.86799730e+04   2.74503850e+04\n",
      "  -3.07412700e+01  -2.04190340e+02  -3.96686530e+00   6.17255910e+03\n",
      "  -3.06291140e+03   1.80363160e+04   2.68320680e-01   3.63636370e-01\n",
      "   6.97374192e-01   1.31820900e-01   3.55217397e-01   1.53490662e-04\n",
      "   1.54460354e+01   0.00000000e+00   0.00000000e+00   0.00000000e+00]\n"
     ]
    }
   ],
   "source": [
    "print(savedData[0,:])"
   ]
  },
  {
   "cell_type": "code",
   "execution_count": null,
   "metadata": {
    "collapsed": true
   },
   "outputs": [],
   "source": []
  }
 ],
 "metadata": {
  "kernelspec": {
   "display_name": "Python [default]",
   "language": "python",
   "name": "python3"
  },
  "language_info": {
   "codemirror_mode": {
    "name": "ipython",
    "version": 3
   },
   "file_extension": ".py",
   "mimetype": "text/x-python",
   "name": "python",
   "nbconvert_exporter": "python",
   "pygments_lexer": "ipython3",
   "version": "3.5.2"
  }
 },
 "nbformat": 4,
 "nbformat_minor": 2
}
